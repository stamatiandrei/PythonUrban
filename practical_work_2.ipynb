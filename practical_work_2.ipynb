{
  "nbformat": 4,
  "nbformat_minor": 0,
  "metadata": {
    "colab": {
      "provenance": [],
      "toc_visible": true
    },
    "kernelspec": {
      "name": "python3",
      "display_name": "Python 3"
    },
    "language_info": {
      "name": "python"
    }
  },
  "cells": [
    {
      "cell_type": "markdown",
      "source": [
        "f-строки"
      ],
      "metadata": {
        "id": "0dx6N97Pmh42"
      }
    },
    {
      "cell_type": "code",
      "source": [
        "name = \"Пушкин\"\n",
        "value = 9.67\n",
        "print(f\"Индекс озеленения территории {name} равен {value}%\")  # такой формат строк, позволяет добавлять в него динамические значения"
      ],
      "metadata": {
        "colab": {
          "base_uri": "https://localhost:8080/"
        },
        "id": "9-bPJUJYnj5c",
        "outputId": "4c9a201f-2899-4d44-cefb-860c0b15249d"
      },
      "execution_count": null,
      "outputs": [
        {
          "output_type": "stream",
          "name": "stdout",
          "text": [
            "Индекс озеленения территории Пушкин равен 9.67%\n"
          ]
        }
      ]
    },
    {
      "cell_type": "markdown",
      "source": [
        "##### **Задача 1** "
      ],
      "metadata": {
        "id": "TJj0RE5LmZ7C"
      }
    },
    {
      "cell_type": "code",
      "execution_count": null,
      "metadata": {
        "id": "GnjKATNlakVX"
      },
      "outputs": [],
      "source": [
        "class GreenZoneIndex:\n",
        "    def __init__(self, territory_name: str, territory_area: int, green_zones: list):\n",
        "        \"\"\"\n",
        "        Класс задает параметры для города\n",
        "\n",
        "        :param territory_name: Название территории\n",
        "        :param territory_area: Площадь территории\n",
        "        :param green_zones: Список площадей парков\n",
        "        \"\"\"\n",
        "\n",
        "        self.territory_name = territory_name\n",
        "        self.territory_area = territory_area\n",
        "        self.green_zones = green_zones\n",
        "\n",
        "        self.green_index = self.calculate_green_index()  # индекс озеленения\n",
        "\n",
        "    def calculate_green_index(self) -> int:\n",
        "        \"\"\"\n",
        "        Метод для вычисления индекса озеленения.\n",
        "\n",
        "        Индекс рассчитывается как отношение площади всех парков к площади территории\n",
        "        \"\"\"\n",
        "        return sum(self.green_zones) / self.territory_area"
      ]
    },
    {
      "cell_type": "code",
      "source": [
        "# Задаем переменные\n",
        "territory_name = \"Пушкин\"\n",
        "territory_area = 28676\n",
        "green_zones = [302, 487, 420, 325, 471, 363, 404]\n"
      ],
      "metadata": {
        "id": "xFdatKFzcYHH"
      },
      "execution_count": null,
      "outputs": []
    },
    {
      "cell_type": "code",
      "source": [
        "# TODO Создать экземпряр класса и с помощью его атрибутов распечатать индекс озеленения в процентах до 2 знака после запятой. \n",
        "pushkin_green = GreenZoneIndex(territory_name, territory_area, green_zones)\n",
        "\n",
        "\n",
        "# Ожидаемый ответ Индекс озеленения территории Пушкин равен 9.67%\n",
        "print(round(pushkin_green.green_index * 100, 2))"
      ],
      "metadata": {
        "colab": {
          "base_uri": "https://localhost:8080/"
        },
        "id": "ptF7KkoxcwVJ",
        "outputId": "66545970-d685-4621-88f4-ada1a4063bdc"
      },
      "execution_count": null,
      "outputs": [
        {
          "output_type": "stream",
          "name": "stdout",
          "text": [
            "9.67\n"
          ]
        }
      ]
    },
    {
      "cell_type": "markdown",
      "source": [
        "##### ***Задача 2***"
      ],
      "metadata": {
        "id": "C2lbIinfkDAx"
      }
    },
    {
      "cell_type": "markdown",
      "source": [
        "Дан список словарей территорий.  \n",
        "Сделать новый список с объектами ранее реализованного типа `GreenZoneIndex`.  "
      ],
      "metadata": {
        "id": "pNq9zNCokLzE"
      }
    },
    {
      "cell_type": "code",
      "source": [
        "# Словарь городов\n",
        "list_territories = [\n",
        "    {\n",
        "        \"territory_name\": \"Пушкин\",\n",
        "        \"territory_area\": 28676,\n",
        "        \"green_zones\": [302, 487, 420, 325, 471, 363, 404]\n",
        "    },\n",
        "    {\n",
        "        \"territory_name\": \"Павловск\",\n",
        "        \"territory_area\": 21025,\n",
        "        \"green_zones\": [360, 375, 223, 258, 345, 296, 303]\n",
        "    },\n",
        "    {\n",
        "        \"territory_name\": \"Петергоф\",\n",
        "        \"territory_area\": 44274,\n",
        "        \"green_zones\": [364, 447, 438, 223, 336, 431, 442]\n",
        "    },\n",
        "]"
      ],
      "metadata": {
        "id": "48scmiImcKCf"
      },
      "execution_count": null,
      "outputs": []
    },
    {
      "cell_type": "code",
      "source": [
        "new_green = [] # список для записи объектов GreenZoneIndex\n",
        "\n",
        "for territories in list_territories:\n",
        "    my_green = GreenZoneIndex(territories[\"territory_name\"], territories[\"territory_area\"], territories[\"green_zones\"])\n",
        "    new_green.append(my_green)"
      ],
      "metadata": {
        "id": "oI7vBq8FwGTO"
      },
      "execution_count": null,
      "outputs": []
    },
    {
      "cell_type": "code",
      "source": [
        "# Проверим полученное значение\n",
        "new_green"
      ],
      "metadata": {
        "colab": {
          "base_uri": "https://localhost:8080/"
        },
        "id": "K5WDmf_syYCu",
        "outputId": "d8dfa11b-83b0-4550-9a19-fd2aba139695"
      },
      "execution_count": null,
      "outputs": [
        {
          "output_type": "execute_result",
          "data": {
            "text/plain": [
              "[<__main__.GreenZoneIndex at 0x7f1cd6c0e690>,\n",
              " <__main__.GreenZoneIndex at 0x7f1cd6c0ef50>,\n",
              " <__main__.GreenZoneIndex at 0x7f1cd6c0e210>]"
            ]
          },
          "metadata": {},
          "execution_count": 44
        }
      ]
    },
    {
      "cell_type": "markdown",
      "source": [
        "##### ***Задача 3***"
      ],
      "metadata": {
        "id": "UmvFY4-Oo9i2"
      }
    },
    {
      "cell_type": "markdown",
      "source": [
        "Написать функцию `get_mean_green_index`,  \n",
        "которая в качестве аргумента принимает список объектов типа `GreenZoneIndex` и считает от них средний индекс озеленения. "
      ],
      "metadata": {
        "id": "CsoJ6DA4o_8F"
      }
    },
    {
      "cell_type": "code",
      "source": [
        "def get_mean_green_index(new_green: list) -> float:\n",
        "    \"\"\"\n",
        "    Функция считает средний индекц озеленения\n",
        "\n",
        "    :param new_green: Список объектов типа GreenZoneIndex\n",
        "    \"\"\"\n",
        "    green_index_list = []\n",
        "    for i in new_green:\n",
        "        green_index_list.append(i.green_index)\n",
        "    \n",
        "    return sum(green_index_list) / len(green_index_list)"
      ],
      "metadata": {
        "id": "3x3x4t76o8oT"
      },
      "execution_count": null,
      "outputs": []
    },
    {
      "cell_type": "code",
      "source": [
        "print(get_mean_green_index(new_green))"
      ],
      "metadata": {
        "colab": {
          "base_uri": "https://localhost:8080/"
        },
        "id": "ff7CzunN0QZH",
        "outputId": "5e829147-dcd8-4ce0-cb0a-d2abcbf8cfd5"
      },
      "execution_count": null,
      "outputs": [
        {
          "output_type": "stream",
          "name": "stdout",
          "text": [
            "0.08665192285269507\n"
          ]
        }
      ]
    },
    {
      "cell_type": "markdown",
      "source": [
        "##### ***Задача 4***"
      ],
      "metadata": {
        "id": "SBLuQt2Ur2By"
      }
    },
    {
      "cell_type": "markdown",
      "source": [
        "Написать функцию `filter_min_green_index`,  \n",
        "которая в качестве аргументов принимает список объектов типа `GreenZoneIndex`  \n",
        "и минимальный порог озеленения, значение по умолчанию 0.1. \n",
        "\n",
        "Результатом функции должно быть число территорий,  \n",
        "индекс озеленения которых ниже заданного минимального порога. "
      ],
      "metadata": {
        "id": "SPTJtvr3r2By"
      }
    },
    {
      "cell_type": "code",
      "source": [
        "def filter_min_green_index(new_green: list, green_inderx_min : float = 0.1) -> int:\n",
        "    \"\"\"\n",
        "    Функция считает число территорий, индекс озеленения которых ниже green_inderx_min\n",
        "\n",
        "    :param new_green: Список объектов типа GreenZoneIndex\n",
        "    :green_inderx_min: Минимальный порог озеленения\n",
        "    \"\"\"\n",
        "    count_green_index_int = 0\n",
        "    for i in new_green:\n",
        "        if i.green_index < green_inderx_min:\n",
        "            count_green_index_int += 1\n",
        "    \n",
        "    return count_green_index_int"
      ],
      "metadata": {
        "id": "FA30f44-gFqF"
      },
      "execution_count": null,
      "outputs": []
    },
    {
      "cell_type": "code",
      "source": [
        "filter_min_green_index(new_green)"
      ],
      "metadata": {
        "colab": {
          "base_uri": "https://localhost:8080/"
        },
        "id": "O1wnooOH2ApK",
        "outputId": "b76aa371-fe3a-48cf-c20b-d2204245be90"
      },
      "execution_count": null,
      "outputs": [
        {
          "output_type": "execute_result",
          "data": {
            "text/plain": [
              "2"
            ]
          },
          "metadata": {},
          "execution_count": 49
        }
      ]
    },
    {
      "cell_type": "markdown",
      "metadata": {
        "id": "ui4tAjhmzeMP"
      },
      "source": [
        "## list comprehension"
      ]
    },
    {
      "cell_type": "markdown",
      "source": [
        "### Обработка каждого элемента"
      ],
      "metadata": {
        "id": "n9NGbRXTfprL"
      }
    },
    {
      "cell_type": "code",
      "metadata": {
        "colab": {
          "base_uri": "https://localhost:8080/"
        },
        "id": "iNRAdVgAz4Dy",
        "outputId": "b3a65af9-f981-44ec-ee2e-b6452d085f0d"
      },
      "source": [
        "cart = [3, 4, 12, 17, 19, 21, 23, 26, 30]\n",
        "\n",
        "cashier = []  # новый список с помощью метода append\n",
        "for item in cart:\n",
        "    cashier.append(item)\n",
        "print(cashier)\n",
        "\n",
        "cashier = [item for item in cart]\n",
        "print(cashier)"
      ],
      "execution_count": null,
      "outputs": [
        {
          "output_type": "stream",
          "name": "stdout",
          "text": [
            "[3, 4, 12, 17, 19, 21, 23, 26, 30]\n",
            "[3, 4, 12, 17, 19, 21, 23, 26, 30]\n"
          ]
        }
      ]
    },
    {
      "cell_type": "markdown",
      "metadata": {
        "id": "2M-NIZP0zisn"
      },
      "source": [
        "![](https://github.com/mrdbourke/python-list-comprehensions-tutorial/raw/f68f956c745932e1b824a69994706d715adde0a1/images/list-comprehensions-1.png)"
      ]
    },
    {
      "cell_type": "markdown",
      "metadata": {
        "id": "5LQP3XvhfXJ1"
      },
      "source": [
        "##### ***Задача. Сделать название городов с заглавной буквы.***\n",
        "\n"
      ]
    },
    {
      "cell_type": "code",
      "metadata": {
        "colab": {
          "base_uri": "https://localhost:8080/"
        },
        "outputId": "de922f3a-f418-4e43-ee95-1bd798d7f3af",
        "id": "AERkw6gvfXJ2"
      },
      "source": [
        "list_cities = [\"москва\", \"иЖЕВСк\", \"Владивосток\", \"новосибирсК\", \"мУРМАНСК\"]\n",
        "\n",
        "# list_cities = list(map(lambda x: x.capitalize(), list_cities))  # TODO метод строки capitalize делает первую букву заглавной, а все остальные строчными\n",
        "list_cities = [item.capitalize() for item in list_cities]\n",
        "print(list_cities)"
      ],
      "execution_count": null,
      "outputs": [
        {
          "output_type": "stream",
          "name": "stdout",
          "text": [
            "['Москва', 'Ижевск', 'Владивосток', 'Новосибирск', 'Мурманск']\n"
          ]
        }
      ]
    },
    {
      "cell_type": "code",
      "source": [],
      "metadata": {
        "id": "h4HhI8Zz21jm"
      },
      "execution_count": null,
      "outputs": []
    },
    {
      "cell_type": "markdown",
      "source": [
        "### Фильтрация элементов"
      ],
      "metadata": {
        "id": "KqBclW8qfxjg"
      }
    },
    {
      "cell_type": "code",
      "metadata": {
        "id": "MeJH1lcB0RCF",
        "colab": {
          "base_uri": "https://localhost:8080/"
        },
        "outputId": "34128a00-bce8-4149-a06b-206483f732bd"
      },
      "source": [
        "cart = [5, 7, 9, 10, 12, 15, 19, 20, 22]\n",
        "\n",
        "cashier_3 = []\n",
        "for item in cart:\n",
        "    if item % 2 == 0:  # только четные\n",
        "        cashier_3.append(item)\n",
        "print(cashier_3)\n",
        "\n",
        "cashier_3 = [item for item in cart if item % 2 == 0]\n",
        "print(cashier_3)"
      ],
      "execution_count": null,
      "outputs": [
        {
          "output_type": "stream",
          "name": "stdout",
          "text": [
            "[10, 12, 20, 22]\n",
            "[10, 12, 20, 22]\n"
          ]
        }
      ]
    },
    {
      "cell_type": "markdown",
      "metadata": {
        "id": "snHVDtsj0Zx3"
      },
      "source": [
        "![](https://github.com/mrdbourke/python-list-comprehensions-tutorial/raw/f68f956c745932e1b824a69994706d715adde0a1/images/list-comprehensions-2.png)"
      ]
    },
    {
      "cell_type": "markdown",
      "metadata": {
        "id": "HAFR21irgBpG"
      },
      "source": [
        "##### ***Задача. Отфильтровать города с населением больше 1 млн. человек.***\n",
        "\n"
      ]
    },
    {
      "cell_type": "code",
      "source": [
        "list_cities = [\n",
        "    {\n",
        "        \"name\": \"Москва\",\n",
        "        \"population\": 12 * 10 ** 6,\n",
        "    },\n",
        "    {\n",
        "        \"name\": \"Санкт-Петербург\",\n",
        "        \"population\": 5 * 10 ** 6,\n",
        "    },\n",
        "    {\n",
        "        \"name\": \"Ижевск\",\n",
        "        \"population\": 0.6 * 10 ** 6,\n",
        "    },\n",
        "]\n",
        "\n",
        "filter_population = 10 ** 6\n",
        "# TODO отфильтровать города\n",
        "\n",
        "filter_cities = [city for city in list_cities if city[\"population\"] > filter_population]\n",
        "filter_cities"
      ],
      "metadata": {
        "colab": {
          "base_uri": "https://localhost:8080/"
        },
        "id": "Ae_6bDglgMCw",
        "outputId": "bceb515d-8063-4d52-c3f0-b8908a09f79a"
      },
      "execution_count": null,
      "outputs": [
        {
          "output_type": "execute_result",
          "data": {
            "text/plain": [
              "[{'name': 'Москва', 'population': 12000000},\n",
              " {'name': 'Санкт-Петербург', 'population': 5000000}]"
            ]
          },
          "metadata": {},
          "execution_count": 55
        }
      ]
    },
    {
      "cell_type": "code",
      "source": [],
      "metadata": {
        "id": "-dd7-6ir4Pul"
      },
      "execution_count": null,
      "outputs": []
    }
  ]
}