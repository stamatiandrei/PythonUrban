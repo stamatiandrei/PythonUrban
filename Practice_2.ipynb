{
  "nbformat": 4,
  "nbformat_minor": 0,
  "metadata": {
    "colab": {
      "provenance": [],
      "collapsed_sections": []
    },
    "kernelspec": {
      "name": "python3",
      "display_name": "Python 3"
    },
    "language_info": {
      "name": "python"
    }
  },
  "cells": [
    {
      "cell_type": "markdown",
      "source": [
        "### Самостоятельная работа"
      ],
      "metadata": {
        "id": "N-uoju-31QMW"
      }
    },
    {
      "cell_type": "markdown",
      "source": [
        "1. Часть 1. Работа с GeoPandas. \n",
        "    1. Выгрузить из google drive файл  \n",
        "(https://drive.google.com/drive/folders/10ZxFd0dQHYU-BINLBi3dxbZZ5_Mp5qBj)  \n",
        "в `geopandas geodataframe`\n",
        "    1. Проверить содержимое с помощью метода `info`\n",
        "    1. Визуализировать получившийся `geodataframe`\n",
        "1. Часть 2. Работа с pydantic и geojson-pydantic. \n",
        "    1. Опираясь на результат метода `info` составить  \n",
        "`geojson-pydantic` схему для валидации входных данных:\n",
        "    - составить схему для валидации свойст (properties).  \n",
        "    Названия полей должны использовать стилистику python  \n",
        "    относительно названия переменных (см. PEP8)\n",
        "    - В качестве геометрий выбрать Point \n",
        "1. Часть 3. Валидация данных. \n",
        "    1. С помощью модуля `requests` загрузить тот же самый json файл  \n",
        "и проверить его с помощью составленной `geojson pydantic` схемы.\n"
      ],
      "metadata": {
        "id": "Wsp3nnBm1MXq"
      }
    },
    {
      "cell_type": "markdown",
      "source": [
        "### Подготовка"
      ],
      "metadata": {
        "id": "A6Cox0eU1Ult"
      }
    },
    {
      "cell_type": "code",
      "source": [
        "# установка библиотек\n",
        "!pip install folium -U\n",
        "!pip install geopandas mapclassify osmnx\n",
        "!pip install pydantic\n",
        "!pip install geojson-pydantic"
      ],
      "metadata": {
        "colab": {
          "base_uri": "https://localhost:8080/"
        },
        "id": "RRlsBh6K1tzD",
        "outputId": "798d4bd3-89ef-4733-add8-8e061387dd45"
      },
      "execution_count": 1,
      "outputs": [
        {
          "output_type": "stream",
          "name": "stdout",
          "text": [
            "Looking in indexes: https://pypi.org/simple, https://us-python.pkg.dev/colab-wheels/public/simple/\n",
            "Requirement already satisfied: folium in /usr/local/lib/python3.7/dist-packages (0.13.0)\n",
            "Requirement already satisfied: branca>=0.3.0 in /usr/local/lib/python3.7/dist-packages (from folium) (0.5.0)\n",
            "Requirement already satisfied: numpy in /usr/local/lib/python3.7/dist-packages (from folium) (1.21.6)\n",
            "Requirement already satisfied: jinja2>=2.9 in /usr/local/lib/python3.7/dist-packages (from folium) (2.11.3)\n",
            "Requirement already satisfied: requests in /usr/local/lib/python3.7/dist-packages (from folium) (2.28.1)\n",
            "Requirement already satisfied: MarkupSafe>=0.23 in /usr/local/lib/python3.7/dist-packages (from jinja2>=2.9->folium) (2.0.1)\n",
            "Requirement already satisfied: certifi>=2017.4.17 in /usr/local/lib/python3.7/dist-packages (from requests->folium) (2022.9.24)\n",
            "Requirement already satisfied: charset-normalizer<3,>=2 in /usr/local/lib/python3.7/dist-packages (from requests->folium) (2.1.1)\n",
            "Requirement already satisfied: urllib3<1.27,>=1.21.1 in /usr/local/lib/python3.7/dist-packages (from requests->folium) (1.24.3)\n",
            "Requirement already satisfied: idna<4,>=2.5 in /usr/local/lib/python3.7/dist-packages (from requests->folium) (2.10)\n",
            "Looking in indexes: https://pypi.org/simple, https://us-python.pkg.dev/colab-wheels/public/simple/\n",
            "Requirement already satisfied: geopandas in /usr/local/lib/python3.7/dist-packages (0.10.2)\n",
            "Requirement already satisfied: mapclassify in /usr/local/lib/python3.7/dist-packages (2.4.3)\n",
            "Requirement already satisfied: osmnx in /usr/local/lib/python3.7/dist-packages (1.1.2)\n",
            "Requirement already satisfied: pandas>=0.25.0 in /usr/local/lib/python3.7/dist-packages (from geopandas) (1.3.5)\n",
            "Requirement already satisfied: shapely>=1.6 in /usr/local/lib/python3.7/dist-packages (from geopandas) (1.8.4)\n",
            "Requirement already satisfied: pyproj>=2.2.0 in /usr/local/lib/python3.7/dist-packages (from geopandas) (3.2.1)\n",
            "Requirement already satisfied: fiona>=1.8 in /usr/local/lib/python3.7/dist-packages (from geopandas) (1.8.21)\n",
            "Requirement already satisfied: click>=4.0 in /usr/local/lib/python3.7/dist-packages (from fiona>=1.8->geopandas) (7.1.2)\n",
            "Requirement already satisfied: attrs>=17 in /usr/local/lib/python3.7/dist-packages (from fiona>=1.8->geopandas) (22.1.0)\n",
            "Requirement already satisfied: click-plugins>=1.0 in /usr/local/lib/python3.7/dist-packages (from fiona>=1.8->geopandas) (1.1.1)\n",
            "Requirement already satisfied: munch in /usr/local/lib/python3.7/dist-packages (from fiona>=1.8->geopandas) (2.5.0)\n",
            "Requirement already satisfied: six>=1.7 in /usr/local/lib/python3.7/dist-packages (from fiona>=1.8->geopandas) (1.15.0)\n",
            "Requirement already satisfied: setuptools in /usr/local/lib/python3.7/dist-packages (from fiona>=1.8->geopandas) (57.4.0)\n",
            "Requirement already satisfied: cligj>=0.5 in /usr/local/lib/python3.7/dist-packages (from fiona>=1.8->geopandas) (0.7.2)\n",
            "Requirement already satisfied: certifi in /usr/local/lib/python3.7/dist-packages (from fiona>=1.8->geopandas) (2022.9.24)\n",
            "Requirement already satisfied: pytz>=2017.3 in /usr/local/lib/python3.7/dist-packages (from pandas>=0.25.0->geopandas) (2022.4)\n",
            "Requirement already satisfied: numpy>=1.17.3 in /usr/local/lib/python3.7/dist-packages (from pandas>=0.25.0->geopandas) (1.21.6)\n",
            "Requirement already satisfied: python-dateutil>=2.7.3 in /usr/local/lib/python3.7/dist-packages (from pandas>=0.25.0->geopandas) (2.8.2)\n",
            "Requirement already satisfied: networkx in /usr/local/lib/python3.7/dist-packages (from mapclassify) (2.6.3)\n",
            "Requirement already satisfied: scikit-learn in /usr/local/lib/python3.7/dist-packages (from mapclassify) (1.0.2)\n",
            "Requirement already satisfied: scipy>=1.0 in /usr/local/lib/python3.7/dist-packages (from mapclassify) (1.7.3)\n",
            "Requirement already satisfied: matplotlib>=3.4 in /usr/local/lib/python3.7/dist-packages (from osmnx) (3.5.3)\n",
            "Requirement already satisfied: Rtree>=0.9 in /usr/local/lib/python3.7/dist-packages (from osmnx) (1.0.0)\n",
            "Requirement already satisfied: requests>=2.26 in /usr/local/lib/python3.7/dist-packages (from osmnx) (2.28.1)\n",
            "Requirement already satisfied: cycler>=0.10 in /usr/local/lib/python3.7/dist-packages (from matplotlib>=3.4->osmnx) (0.11.0)\n",
            "Requirement already satisfied: fonttools>=4.22.0 in /usr/local/lib/python3.7/dist-packages (from matplotlib>=3.4->osmnx) (4.37.4)\n",
            "Requirement already satisfied: packaging>=20.0 in /usr/local/lib/python3.7/dist-packages (from matplotlib>=3.4->osmnx) (21.3)\n",
            "Requirement already satisfied: pillow>=6.2.0 in /usr/local/lib/python3.7/dist-packages (from matplotlib>=3.4->osmnx) (7.1.2)\n",
            "Requirement already satisfied: pyparsing>=2.2.1 in /usr/local/lib/python3.7/dist-packages (from matplotlib>=3.4->osmnx) (3.0.9)\n",
            "Requirement already satisfied: kiwisolver>=1.0.1 in /usr/local/lib/python3.7/dist-packages (from matplotlib>=3.4->osmnx) (1.4.4)\n",
            "Requirement already satisfied: typing-extensions in /usr/local/lib/python3.7/dist-packages (from kiwisolver>=1.0.1->matplotlib>=3.4->osmnx) (4.1.1)\n",
            "Requirement already satisfied: charset-normalizer<3,>=2 in /usr/local/lib/python3.7/dist-packages (from requests>=2.26->osmnx) (2.1.1)\n",
            "Requirement already satisfied: urllib3<1.27,>=1.21.1 in /usr/local/lib/python3.7/dist-packages (from requests>=2.26->osmnx) (1.24.3)\n",
            "Requirement already satisfied: idna<4,>=2.5 in /usr/local/lib/python3.7/dist-packages (from requests>=2.26->osmnx) (2.10)\n",
            "Requirement already satisfied: threadpoolctl>=2.0.0 in /usr/local/lib/python3.7/dist-packages (from scikit-learn->mapclassify) (3.1.0)\n",
            "Requirement already satisfied: joblib>=0.11 in /usr/local/lib/python3.7/dist-packages (from scikit-learn->mapclassify) (1.2.0)\n",
            "Looking in indexes: https://pypi.org/simple, https://us-python.pkg.dev/colab-wheels/public/simple/\n",
            "Requirement already satisfied: pydantic in /usr/local/lib/python3.7/dist-packages (1.9.2)\n",
            "Requirement already satisfied: typing-extensions>=3.7.4.3 in /usr/local/lib/python3.7/dist-packages (from pydantic) (4.1.1)\n",
            "Looking in indexes: https://pypi.org/simple, https://us-python.pkg.dev/colab-wheels/public/simple/\n",
            "Collecting geojson-pydantic\n",
            "  Downloading geojson_pydantic-0.4.3-py3-none-any.whl (7.9 kB)\n",
            "Requirement already satisfied: pydantic in /usr/local/lib/python3.7/dist-packages (from geojson-pydantic) (1.9.2)\n",
            "Requirement already satisfied: typing-extensions>=3.7.4.3 in /usr/local/lib/python3.7/dist-packages (from pydantic->geojson-pydantic) (4.1.1)\n",
            "Installing collected packages: geojson-pydantic\n",
            "Successfully installed geojson-pydantic-0.4.3\n"
          ]
        }
      ]
    },
    {
      "cell_type": "code",
      "execution_count": 2,
      "metadata": {
        "id": "bkGvUA4_w1Ad"
      },
      "outputs": [],
      "source": [
        "from traceback import print_exc\n",
        "from typing import List, Dict, Union, Optional # Для типизации\n",
        "import requests\n",
        "\n",
        "import pandas as pd\n",
        "import geopandas as gpd\n",
        "\n",
        "from pydantic import BaseModel, Field # Валидация JSON формата\n",
        "from pydantic.error_wrappers import ValidationError # Обработка ошибок при валидации\n",
        "from geojson_pydantic import FeatureCollection, Point, Polygon # Валидация GeoJSON формата"
      ]
    },
    {
      "cell_type": "code",
      "source": [
        "def get_google_drive_download_url(url: str) -> str:\n",
        "    \"\"\"\n",
        "    Функция возвращает ссылку для скачивания с google drive.\n",
        "     Например: \"https://drive.google.com/file/d/1MWGOuqV76e0ubQOg8Ke0KTU3yGpkprHp/view?usp=sharing\" ->\n",
        "     \"https://drive.google.com/uc?export=download&id=1MWGOuqV76e0ubQOg8Ke0KTU3yGpkprHp\"\n",
        "    \"\"\"\n",
        "    \n",
        "    drive_id = url.split(\"/\")[5]\n",
        "    return f\"https://drive.google.com/uc?export=download&id={drive_id}\""
      ],
      "metadata": {
        "id": "fTYuST8m0Bre"
      },
      "execution_count": 3,
      "outputs": []
    },
    {
      "cell_type": "markdown",
      "source": [
        "### Часть 1"
      ],
      "metadata": {
        "id": "-0ZbCtm51f_x"
      }
    },
    {
      "cell_type": "code",
      "source": [
        "# Выгружаем один из файлов на диске: \"https://drive.google.com/drive/folders/10ZxFd0dQHYU-BINLBi3dxbZZ5_Mp5qBj\"\n",
        "google_drive_url = \"https://drive.google.com/file/d/1dBsNFkKI0L2Gs0FqesygDLPNYrRrZXyq/view?usp=sharing\"\n",
        "download_url = get_google_drive_download_url(google_drive_url)"
      ],
      "metadata": {
        "id": "WA0SIFPZ5o1j"
      },
      "execution_count": 12,
      "outputs": []
    },
    {
      "cell_type": "code",
      "source": [],
      "metadata": {
        "id": "RQVZu9QKOLfk"
      },
      "execution_count": 33,
      "outputs": []
    },
    {
      "cell_type": "code",
      "source": [
        "gdf = gpd.read_file(download_url) # Загружаем данные в geopandas\n",
        "gdf.head()"
      ],
      "metadata": {
        "colab": {
          "base_uri": "https://localhost:8080/",
          "height": 206
        },
        "id": "K5uQhemtPH-M",
        "outputId": "bcbf6621-d105-4829-cfd6-0712eadc9d15"
      },
      "execution_count": 13,
      "outputs": [
        {
          "output_type": "execute_result",
          "data": {
            "text/plain": [
              "                                       Name City function     Type  \\\n",
              "0                               Бассейн СКА         Спорт  Бассейн   \n",
              "1                                    Грифон         Спорт  Бассейн   \n",
              "2                                     СШ №2         Спорт  Бассейн   \n",
              "3  детский бассейн \"Утёнок\" (ГБОУ СОШ № 21)         Спорт  Бассейн   \n",
              "4                                     Сокол         Спорт  Бассейн   \n",
              "\n",
              "   Coordinates y  Coordinates x                       Coordinates xy  \\\n",
              "0      59.936746      30.252034  30.25187133629281,59.93674916320182   \n",
              "1      59.927734      30.326837                30.3267591,59.9276414   \n",
              "2      59.955728      30.427304  30.42728139697902,59.95578571510781   \n",
              "3      59.940078      30.283987                30.2841716,59.9402942   \n",
              "4      59.878184      30.308888  30.30896040183802,59.87818302977694   \n",
              "\n",
              "                    geometry  \n",
              "0  POINT (30.25203 59.93675)  \n",
              "1  POINT (30.32684 59.92773)  \n",
              "2  POINT (30.42730 59.95573)  \n",
              "3  POINT (30.28399 59.94008)  \n",
              "4  POINT (30.30889 59.87818)  "
            ],
            "text/html": [
              "\n",
              "  <div id=\"df-e94ca3b5-1a93-4ce6-84ad-bc4f26a5e25d\">\n",
              "    <div class=\"colab-df-container\">\n",
              "      <div>\n",
              "<style scoped>\n",
              "    .dataframe tbody tr th:only-of-type {\n",
              "        vertical-align: middle;\n",
              "    }\n",
              "\n",
              "    .dataframe tbody tr th {\n",
              "        vertical-align: top;\n",
              "    }\n",
              "\n",
              "    .dataframe thead th {\n",
              "        text-align: right;\n",
              "    }\n",
              "</style>\n",
              "<table border=\"1\" class=\"dataframe\">\n",
              "  <thead>\n",
              "    <tr style=\"text-align: right;\">\n",
              "      <th></th>\n",
              "      <th>Name</th>\n",
              "      <th>City function</th>\n",
              "      <th>Type</th>\n",
              "      <th>Coordinates y</th>\n",
              "      <th>Coordinates x</th>\n",
              "      <th>Coordinates xy</th>\n",
              "      <th>geometry</th>\n",
              "    </tr>\n",
              "  </thead>\n",
              "  <tbody>\n",
              "    <tr>\n",
              "      <th>0</th>\n",
              "      <td>Бассейн СКА</td>\n",
              "      <td>Спорт</td>\n",
              "      <td>Бассейн</td>\n",
              "      <td>59.936746</td>\n",
              "      <td>30.252034</td>\n",
              "      <td>30.25187133629281,59.93674916320182</td>\n",
              "      <td>POINT (30.25203 59.93675)</td>\n",
              "    </tr>\n",
              "    <tr>\n",
              "      <th>1</th>\n",
              "      <td>Грифон</td>\n",
              "      <td>Спорт</td>\n",
              "      <td>Бассейн</td>\n",
              "      <td>59.927734</td>\n",
              "      <td>30.326837</td>\n",
              "      <td>30.3267591,59.9276414</td>\n",
              "      <td>POINT (30.32684 59.92773)</td>\n",
              "    </tr>\n",
              "    <tr>\n",
              "      <th>2</th>\n",
              "      <td>СШ №2</td>\n",
              "      <td>Спорт</td>\n",
              "      <td>Бассейн</td>\n",
              "      <td>59.955728</td>\n",
              "      <td>30.427304</td>\n",
              "      <td>30.42728139697902,59.95578571510781</td>\n",
              "      <td>POINT (30.42730 59.95573)</td>\n",
              "    </tr>\n",
              "    <tr>\n",
              "      <th>3</th>\n",
              "      <td>детский бассейн \"Утёнок\" (ГБОУ СОШ № 21)</td>\n",
              "      <td>Спорт</td>\n",
              "      <td>Бассейн</td>\n",
              "      <td>59.940078</td>\n",
              "      <td>30.283987</td>\n",
              "      <td>30.2841716,59.9402942</td>\n",
              "      <td>POINT (30.28399 59.94008)</td>\n",
              "    </tr>\n",
              "    <tr>\n",
              "      <th>4</th>\n",
              "      <td>Сокол</td>\n",
              "      <td>Спорт</td>\n",
              "      <td>Бассейн</td>\n",
              "      <td>59.878184</td>\n",
              "      <td>30.308888</td>\n",
              "      <td>30.30896040183802,59.87818302977694</td>\n",
              "      <td>POINT (30.30889 59.87818)</td>\n",
              "    </tr>\n",
              "  </tbody>\n",
              "</table>\n",
              "</div>\n",
              "      <button class=\"colab-df-convert\" onclick=\"convertToInteractive('df-e94ca3b5-1a93-4ce6-84ad-bc4f26a5e25d')\"\n",
              "              title=\"Convert this dataframe to an interactive table.\"\n",
              "              style=\"display:none;\">\n",
              "        \n",
              "  <svg xmlns=\"http://www.w3.org/2000/svg\" height=\"24px\"viewBox=\"0 0 24 24\"\n",
              "       width=\"24px\">\n",
              "    <path d=\"M0 0h24v24H0V0z\" fill=\"none\"/>\n",
              "    <path d=\"M18.56 5.44l.94 2.06.94-2.06 2.06-.94-2.06-.94-.94-2.06-.94 2.06-2.06.94zm-11 1L8.5 8.5l.94-2.06 2.06-.94-2.06-.94L8.5 2.5l-.94 2.06-2.06.94zm10 10l.94 2.06.94-2.06 2.06-.94-2.06-.94-.94-2.06-.94 2.06-2.06.94z\"/><path d=\"M17.41 7.96l-1.37-1.37c-.4-.4-.92-.59-1.43-.59-.52 0-1.04.2-1.43.59L10.3 9.45l-7.72 7.72c-.78.78-.78 2.05 0 2.83L4 21.41c.39.39.9.59 1.41.59.51 0 1.02-.2 1.41-.59l7.78-7.78 2.81-2.81c.8-.78.8-2.07 0-2.86zM5.41 20L4 18.59l7.72-7.72 1.47 1.35L5.41 20z\"/>\n",
              "  </svg>\n",
              "      </button>\n",
              "      \n",
              "  <style>\n",
              "    .colab-df-container {\n",
              "      display:flex;\n",
              "      flex-wrap:wrap;\n",
              "      gap: 12px;\n",
              "    }\n",
              "\n",
              "    .colab-df-convert {\n",
              "      background-color: #E8F0FE;\n",
              "      border: none;\n",
              "      border-radius: 50%;\n",
              "      cursor: pointer;\n",
              "      display: none;\n",
              "      fill: #1967D2;\n",
              "      height: 32px;\n",
              "      padding: 0 0 0 0;\n",
              "      width: 32px;\n",
              "    }\n",
              "\n",
              "    .colab-df-convert:hover {\n",
              "      background-color: #E2EBFA;\n",
              "      box-shadow: 0px 1px 2px rgba(60, 64, 67, 0.3), 0px 1px 3px 1px rgba(60, 64, 67, 0.15);\n",
              "      fill: #174EA6;\n",
              "    }\n",
              "\n",
              "    [theme=dark] .colab-df-convert {\n",
              "      background-color: #3B4455;\n",
              "      fill: #D2E3FC;\n",
              "    }\n",
              "\n",
              "    [theme=dark] .colab-df-convert:hover {\n",
              "      background-color: #434B5C;\n",
              "      box-shadow: 0px 1px 3px 1px rgba(0, 0, 0, 0.15);\n",
              "      filter: drop-shadow(0px 1px 2px rgba(0, 0, 0, 0.3));\n",
              "      fill: #FFFFFF;\n",
              "    }\n",
              "  </style>\n",
              "\n",
              "      <script>\n",
              "        const buttonEl =\n",
              "          document.querySelector('#df-e94ca3b5-1a93-4ce6-84ad-bc4f26a5e25d button.colab-df-convert');\n",
              "        buttonEl.style.display =\n",
              "          google.colab.kernel.accessAllowed ? 'block' : 'none';\n",
              "\n",
              "        async function convertToInteractive(key) {\n",
              "          const element = document.querySelector('#df-e94ca3b5-1a93-4ce6-84ad-bc4f26a5e25d');\n",
              "          const dataTable =\n",
              "            await google.colab.kernel.invokeFunction('convertToInteractive',\n",
              "                                                     [key], {});\n",
              "          if (!dataTable) return;\n",
              "\n",
              "          const docLinkHtml = 'Like what you see? Visit the ' +\n",
              "            '<a target=\"_blank\" href=https://colab.research.google.com/notebooks/data_table.ipynb>data table notebook</a>'\n",
              "            + ' to learn more about interactive tables.';\n",
              "          element.innerHTML = '';\n",
              "          dataTable['output_type'] = 'display_data';\n",
              "          await google.colab.output.renderOutput(dataTable, element);\n",
              "          const docLink = document.createElement('div');\n",
              "          docLink.innerHTML = docLinkHtml;\n",
              "          element.appendChild(docLink);\n",
              "        }\n",
              "      </script>\n",
              "    </div>\n",
              "  </div>\n",
              "  "
            ]
          },
          "metadata": {},
          "execution_count": 13
        }
      ]
    },
    {
      "cell_type": "code",
      "source": [
        "# Проверяем содержимое\n",
        "gdf.info() "
      ],
      "metadata": {
        "colab": {
          "base_uri": "https://localhost:8080/"
        },
        "id": "hKIucwVe7LK7",
        "outputId": "5798cb82-c539-44bf-8c2c-32481e0d2557"
      },
      "execution_count": 14,
      "outputs": [
        {
          "output_type": "stream",
          "name": "stdout",
          "text": [
            "<class 'geopandas.geodataframe.GeoDataFrame'>\n",
            "RangeIndex: 71 entries, 0 to 70\n",
            "Data columns (total 7 columns):\n",
            " #   Column          Non-Null Count  Dtype   \n",
            "---  ------          --------------  -----   \n",
            " 0   Name            71 non-null     object  \n",
            " 1   City function   71 non-null     object  \n",
            " 2   Type            71 non-null     object  \n",
            " 3   Coordinates y   71 non-null     float64 \n",
            " 4   Coordinates x   71 non-null     float64 \n",
            " 5   Coordinates xy  71 non-null     object  \n",
            " 6   geometry        71 non-null     geometry\n",
            "dtypes: float64(2), geometry(1), object(4)\n",
            "memory usage: 4.0+ KB\n"
          ]
        }
      ]
    },
    {
      "cell_type": "code",
      "source": [
        "# Визуализируем данные\n",
        "gdf.explore()"
      ],
      "metadata": {
        "id": "s9NljzeJ7sEa",
        "colab": {
          "base_uri": "https://localhost:8080/",
          "height": 1000
        },
        "outputId": "c4c201d0-6543-4604-e5ba-adb68b16060c"
      },
      "execution_count": 38,
      "outputs": [
        {
          "output_type": "execute_result",
          "data": {
            "text/plain": [
              "<folium.folium.Map at 0x7f9b805b7490>"
            ],
            "text/html": [
              "<div style=\"width:100%;\"><div style=\"position:relative;width:100%;height:0;padding-bottom:60%;\"><span style=\"color:#565656\">Make this Notebook Trusted to load map: File -> Trust Notebook</span><iframe srcdoc=\"&lt;!DOCTYPE html&gt;\n",
              "&lt;head&gt;    \n",
              "    &lt;meta http-equiv=&quot;content-type&quot; content=&quot;text/html; charset=UTF-8&quot; /&gt;\n",
              "    \n",
              "        &lt;script&gt;\n",
              "            L_NO_TOUCH = false;\n",
              "            L_DISABLE_3D = false;\n",
              "        &lt;/script&gt;\n",
              "    \n",
              "    &lt;style&gt;html, body {width: 100%;height: 100%;margin: 0;padding: 0;}&lt;/style&gt;\n",
              "    &lt;style&gt;#map {position:absolute;top:0;bottom:0;right:0;left:0;}&lt;/style&gt;\n",
              "    &lt;script src=&quot;https://cdn.jsdelivr.net/npm/leaflet@1.6.0/dist/leaflet.js&quot;&gt;&lt;/script&gt;\n",
              "    &lt;script src=&quot;https://code.jquery.com/jquery-1.12.4.min.js&quot;&gt;&lt;/script&gt;\n",
              "    &lt;script src=&quot;https://maxcdn.bootstrapcdn.com/bootstrap/3.2.0/js/bootstrap.min.js&quot;&gt;&lt;/script&gt;\n",
              "    &lt;script src=&quot;https://cdnjs.cloudflare.com/ajax/libs/Leaflet.awesome-markers/2.0.2/leaflet.awesome-markers.js&quot;&gt;&lt;/script&gt;\n",
              "    &lt;link rel=&quot;stylesheet&quot; href=&quot;https://cdn.jsdelivr.net/npm/leaflet@1.6.0/dist/leaflet.css&quot;/&gt;\n",
              "    &lt;link rel=&quot;stylesheet&quot; href=&quot;https://maxcdn.bootstrapcdn.com/bootstrap/3.2.0/css/bootstrap.min.css&quot;/&gt;\n",
              "    &lt;link rel=&quot;stylesheet&quot; href=&quot;https://maxcdn.bootstrapcdn.com/bootstrap/3.2.0/css/bootstrap-theme.min.css&quot;/&gt;\n",
              "    &lt;link rel=&quot;stylesheet&quot; href=&quot;https://maxcdn.bootstrapcdn.com/font-awesome/4.6.3/css/font-awesome.min.css&quot;/&gt;\n",
              "    &lt;link rel=&quot;stylesheet&quot; href=&quot;https://cdnjs.cloudflare.com/ajax/libs/Leaflet.awesome-markers/2.0.2/leaflet.awesome-markers.css&quot;/&gt;\n",
              "    &lt;link rel=&quot;stylesheet&quot; href=&quot;https://cdn.jsdelivr.net/gh/python-visualization/folium/folium/templates/leaflet.awesome.rotate.min.css&quot;/&gt;\n",
              "    \n",
              "            &lt;meta name=&quot;viewport&quot; content=&quot;width=device-width,\n",
              "                initial-scale=1.0, maximum-scale=1.0, user-scalable=no&quot; /&gt;\n",
              "            &lt;style&gt;\n",
              "                #map_71f678ecc2e29a712aef10a42fb1d957 {\n",
              "                    position: relative;\n",
              "                    width: 100.0%;\n",
              "                    height: 100.0%;\n",
              "                    left: 0.0%;\n",
              "                    top: 0.0%;\n",
              "                }\n",
              "            &lt;/style&gt;\n",
              "        \n",
              "    \n",
              "                    &lt;style&gt;\n",
              "                        .foliumtooltip {\n",
              "                            \n",
              "                        }\n",
              "                       .foliumtooltip table{\n",
              "                            margin: auto;\n",
              "                        }\n",
              "                        .foliumtooltip tr{\n",
              "                            text-align: left;\n",
              "                        }\n",
              "                        .foliumtooltip th{\n",
              "                            padding: 2px; padding-right: 8px;\n",
              "                        }\n",
              "                    &lt;/style&gt;\n",
              "            \n",
              "&lt;/head&gt;\n",
              "&lt;body&gt;    \n",
              "    \n",
              "            &lt;div class=&quot;folium-map&quot; id=&quot;map_71f678ecc2e29a712aef10a42fb1d957&quot; &gt;&lt;/div&gt;\n",
              "        \n",
              "&lt;/body&gt;\n",
              "&lt;script&gt;    \n",
              "    \n",
              "            var map_71f678ecc2e29a712aef10a42fb1d957 = L.map(\n",
              "                &quot;map_71f678ecc2e29a712aef10a42fb1d957&quot;,\n",
              "                {\n",
              "                    center: [59.9576955, 30.033528],\n",
              "                    crs: L.CRS.EPSG3857,\n",
              "                    zoom: 10,\n",
              "                    zoomControl: true,\n",
              "                    preferCanvas: false,\n",
              "                }\n",
              "            );\n",
              "            L.control.scale().addTo(map_71f678ecc2e29a712aef10a42fb1d957);\n",
              "\n",
              "            \n",
              "\n",
              "        \n",
              "    \n",
              "            var tile_layer_74720effc794304cda27da0bc7a88a87 = L.tileLayer(\n",
              "                &quot;https://{s}.tile.openstreetmap.org/{z}/{x}/{y}.png&quot;,\n",
              "                {&quot;attribution&quot;: &quot;Data by \\u0026copy; \\u003ca href=\\&quot;http://openstreetmap.org\\&quot;\\u003eOpenStreetMap\\u003c/a\\u003e, under \\u003ca href=\\&quot;http://www.openstreetmap.org/copyright\\&quot;\\u003eODbL\\u003c/a\\u003e.&quot;, &quot;detectRetina&quot;: false, &quot;maxNativeZoom&quot;: 18, &quot;maxZoom&quot;: 18, &quot;minZoom&quot;: 0, &quot;noWrap&quot;: false, &quot;opacity&quot;: 1, &quot;subdomains&quot;: &quot;abc&quot;, &quot;tms&quot;: false}\n",
              "            ).addTo(map_71f678ecc2e29a712aef10a42fb1d957);\n",
              "        \n",
              "    \n",
              "            map_71f678ecc2e29a712aef10a42fb1d957.fitBounds(\n",
              "                [[59.724192, 29.456639], [60.191199, 30.610417]],\n",
              "                {}\n",
              "            );\n",
              "        \n",
              "    \n",
              "        function geo_json_b9f19d9b50ee3d745dbbf7d3842a072d_styler(feature) {\n",
              "            switch(feature.id) {\n",
              "                default:\n",
              "                    return {&quot;fillOpacity&quot;: 0.5, &quot;weight&quot;: 2};\n",
              "            }\n",
              "        }\n",
              "        function geo_json_b9f19d9b50ee3d745dbbf7d3842a072d_highlighter(feature) {\n",
              "            switch(feature.id) {\n",
              "                default:\n",
              "                    return {&quot;fillOpacity&quot;: 0.75};\n",
              "            }\n",
              "        }\n",
              "        function geo_json_b9f19d9b50ee3d745dbbf7d3842a072d_pointToLayer(feature, latlng) {\n",
              "            var opts = {&quot;bubblingMouseEvents&quot;: true, &quot;color&quot;: &quot;#3388ff&quot;, &quot;dashArray&quot;: null, &quot;dashOffset&quot;: null, &quot;fill&quot;: true, &quot;fillColor&quot;: &quot;#3388ff&quot;, &quot;fillOpacity&quot;: 0.2, &quot;fillRule&quot;: &quot;evenodd&quot;, &quot;lineCap&quot;: &quot;round&quot;, &quot;lineJoin&quot;: &quot;round&quot;, &quot;opacity&quot;: 1.0, &quot;radius&quot;: 2, &quot;stroke&quot;: true, &quot;weight&quot;: 3};\n",
              "            \n",
              "            let style = geo_json_b9f19d9b50ee3d745dbbf7d3842a072d_styler(feature)\n",
              "            Object.assign(opts, style)\n",
              "            \n",
              "            return new L.CircleMarker(latlng, opts)\n",
              "        }\n",
              "\n",
              "        function geo_json_b9f19d9b50ee3d745dbbf7d3842a072d_onEachFeature(feature, layer) {\n",
              "            layer.on({\n",
              "                mouseout: function(e) {\n",
              "                    if(typeof e.target.setStyle === &quot;function&quot;){\n",
              "                        geo_json_b9f19d9b50ee3d745dbbf7d3842a072d.resetStyle(e.target);\n",
              "                    }\n",
              "                },\n",
              "                mouseover: function(e) {\n",
              "                    if(typeof e.target.setStyle === &quot;function&quot;){\n",
              "                        const highlightStyle = geo_json_b9f19d9b50ee3d745dbbf7d3842a072d_highlighter(e.target.feature)\n",
              "                        e.target.setStyle(highlightStyle);\n",
              "                    }\n",
              "                },\n",
              "            });\n",
              "        };\n",
              "        var geo_json_b9f19d9b50ee3d745dbbf7d3842a072d = L.geoJson(null, {\n",
              "                onEachFeature: geo_json_b9f19d9b50ee3d745dbbf7d3842a072d_onEachFeature,\n",
              "            \n",
              "                style: geo_json_b9f19d9b50ee3d745dbbf7d3842a072d_styler,\n",
              "                pointToLayer: geo_json_b9f19d9b50ee3d745dbbf7d3842a072d_pointToLayer\n",
              "        });\n",
              "\n",
              "        function geo_json_b9f19d9b50ee3d745dbbf7d3842a072d_add (data) {\n",
              "            geo_json_b9f19d9b50ee3d745dbbf7d3842a072d\n",
              "                .addData(data)\n",
              "                .addTo(map_71f678ecc2e29a712aef10a42fb1d957);\n",
              "        }\n",
              "            geo_json_b9f19d9b50ee3d745dbbf7d3842a072d_add({&quot;bbox&quot;: [29.456639, 59.724192, 30.610417, 60.191199], &quot;features&quot;: [{&quot;bbox&quot;: [30.252034, 59.936746, 30.252034, 59.936746], &quot;geometry&quot;: {&quot;coordinates&quot;: [30.252034, 59.936746], &quot;type&quot;: &quot;Point&quot;}, &quot;id&quot;: &quot;0&quot;, &quot;properties&quot;: {&quot;City function&quot;: &quot;\\u0421\\u043f\\u043e\\u0440\\u0442&quot;, &quot;Coordinates x&quot;: 30.252034, &quot;Coordinates xy&quot;: &quot;30.25187133629281,59.93674916320182&quot;, &quot;Coordinates y&quot;: 59.936746, &quot;Name&quot;: &quot;\\u0411\\u0430\\u0441\\u0441\\u0435\\u0439\\u043d \\u0421\\u041a\\u0410&quot;, &quot;Type&quot;: &quot;\\u0411\\u0430\\u0441\\u0441\\u0435\\u0439\\u043d&quot;}, &quot;type&quot;: &quot;Feature&quot;}, {&quot;bbox&quot;: [30.326837, 59.927734, 30.326837, 59.927734], &quot;geometry&quot;: {&quot;coordinates&quot;: [30.326837, 59.927734], &quot;type&quot;: &quot;Point&quot;}, &quot;id&quot;: &quot;1&quot;, &quot;properties&quot;: {&quot;City function&quot;: &quot;\\u0421\\u043f\\u043e\\u0440\\u0442&quot;, &quot;Coordinates x&quot;: 30.326837, &quot;Coordinates xy&quot;: &quot;30.3267591,59.9276414&quot;, &quot;Coordinates y&quot;: 59.927734, &quot;Name&quot;: &quot;\\u0413\\u0440\\u0438\\u0444\\u043e\\u043d&quot;, &quot;Type&quot;: &quot;\\u0411\\u0430\\u0441\\u0441\\u0435\\u0439\\u043d&quot;}, &quot;type&quot;: &quot;Feature&quot;}, {&quot;bbox&quot;: [30.427304, 59.955728, 30.427304, 59.955728], &quot;geometry&quot;: {&quot;coordinates&quot;: [30.427304, 59.955728], &quot;type&quot;: &quot;Point&quot;}, &quot;id&quot;: &quot;2&quot;, &quot;properties&quot;: {&quot;City function&quot;: &quot;\\u0421\\u043f\\u043e\\u0440\\u0442&quot;, &quot;Coordinates x&quot;: 30.427304, &quot;Coordinates xy&quot;: &quot;30.42728139697902,59.95578571510781&quot;, &quot;Coordinates y&quot;: 59.955728, &quot;Name&quot;: &quot;\\u0421\\u0428 \\u21162&quot;, &quot;Type&quot;: &quot;\\u0411\\u0430\\u0441\\u0441\\u0435\\u0439\\u043d&quot;}, &quot;type&quot;: &quot;Feature&quot;}, {&quot;bbox&quot;: [30.283987, 59.940078, 30.283987, 59.940078], &quot;geometry&quot;: {&quot;coordinates&quot;: [30.283987, 59.940078], &quot;type&quot;: &quot;Point&quot;}, &quot;id&quot;: &quot;3&quot;, &quot;properties&quot;: {&quot;City function&quot;: &quot;\\u0421\\u043f\\u043e\\u0440\\u0442&quot;, &quot;Coordinates x&quot;: 30.283987, &quot;Coordinates xy&quot;: &quot;30.2841716,59.9402942&quot;, &quot;Coordinates y&quot;: 59.940078, &quot;Name&quot;: &quot;\\u0434\\u0435\\u0442\\u0441\\u043a\\u0438\\u0439 \\u0431\\u0430\\u0441\\u0441\\u0435\\u0439\\u043d \\&quot;\\u0423\\u0442\\u0451\\u043d\\u043e\\u043a\\&quot; (\\u0413\\u0411\\u041e\\u0423 \\u0421\\u041e\\u0428 \\u2116 21)&quot;, &quot;Type&quot;: &quot;\\u0411\\u0430\\u0441\\u0441\\u0435\\u0439\\u043d&quot;}, &quot;type&quot;: &quot;Feature&quot;}, {&quot;bbox&quot;: [30.308888, 59.878184, 30.308888, 59.878184], &quot;geometry&quot;: {&quot;coordinates&quot;: [30.308888, 59.878184], &quot;type&quot;: &quot;Point&quot;}, &quot;id&quot;: &quot;4&quot;, &quot;properties&quot;: {&quot;City function&quot;: &quot;\\u0421\\u043f\\u043e\\u0440\\u0442&quot;, &quot;Coordinates x&quot;: 30.308888, &quot;Coordinates xy&quot;: &quot;30.30896040183802,59.87818302977694&quot;, &quot;Coordinates y&quot;: 59.878184, &quot;Name&quot;: &quot;\\u0421\\u043e\\u043a\\u043e\\u043b&quot;, &quot;Type&quot;: &quot;\\u0411\\u0430\\u0441\\u0441\\u0435\\u0439\\u043d&quot;}, &quot;type&quot;: &quot;Feature&quot;}, {&quot;bbox&quot;: [30.251962, 59.867511, 30.251962, 59.867511], &quot;geometry&quot;: {&quot;coordinates&quot;: [30.251962, 59.867511], &quot;type&quot;: &quot;Point&quot;}, &quot;id&quot;: &quot;5&quot;, &quot;properties&quot;: {&quot;City function&quot;: &quot;\\u0421\\u043f\\u043e\\u0440\\u0442&quot;, &quot;Coordinates x&quot;: 30.251962, &quot;Coordinates xy&quot;: &quot;30.2519113,59.8675537&quot;, &quot;Coordinates y&quot;: 59.867511, &quot;Name&quot;: &quot;\\u0410\\u0442\\u043b\\u0430\\u043d\\u0442\\u0438\\u043a\\u0430&quot;, &quot;Type&quot;: &quot;\\u0411\\u0430\\u0441\\u0441\\u0435\\u0439\\u043d&quot;}, &quot;type&quot;: &quot;Feature&quot;}, {&quot;bbox&quot;: [30.438937, 59.977877, 30.438937, 59.977877], &quot;geometry&quot;: {&quot;coordinates&quot;: [30.438937, 59.977877], &quot;type&quot;: &quot;Point&quot;}, &quot;id&quot;: &quot;6&quot;, &quot;properties&quot;: {&quot;City function&quot;: &quot;\\u0421\\u043f\\u043e\\u0440\\u0442&quot;, &quot;Coordinates x&quot;: 30.438937, &quot;Coordinates xy&quot;: &quot;30.4388855,59.9779149&quot;, &quot;Coordinates y&quot;: 59.977877, &quot;Name&quot;: &quot;\\u0415\\u043a\\u0430\\u0442\\u0435\\u0440\\u0438\\u043d\\u0438\\u043d\\u0441\\u043a\\u0438\\u0439&quot;, &quot;Type&quot;: &quot;\\u0411\\u0430\\u0441\\u0441\\u0435\\u0439\\u043d&quot;}, &quot;type&quot;: &quot;Feature&quot;}, {&quot;bbox&quot;: [29.700675, 60.187951, 29.700675, 60.187951], &quot;geometry&quot;: {&quot;coordinates&quot;: [29.700675, 60.187951], &quot;type&quot;: &quot;Point&quot;}, &quot;id&quot;: &quot;7&quot;, &quot;properties&quot;: {&quot;City function&quot;: &quot;\\u0421\\u043f\\u043e\\u0440\\u0442&quot;, &quot;Coordinates x&quot;: 29.700675, &quot;Coordinates xy&quot;: &quot;29.70073780592363,60.18808599987645&quot;, &quot;Coordinates y&quot;: 60.187951, &quot;Name&quot;: &quot;\\u0421\\u041f\\u0410-\\u043a\\u043e\\u043c\\u043f\\u043b\\u0435\\u043a\\u0441 \\u0417\\u0430\\u0433\\u043e\\u0440\\u043e\\u0434\\u043d\\u043e\\u0433\\u043e \\u041a\\u043b\\u0443\\u0431\\u0430 \\&quot;\\u0422\\u0435\\u0440\\u0438\\u0439\\u043e\\u043a\\u0438\\&quot;&quot;, &quot;Type&quot;: &quot;\\u0411\\u0430\\u0441\\u0441\\u0435\\u0439\\u043d&quot;}, &quot;type&quot;: &quot;Feature&quot;}, {&quot;bbox&quot;: [29.653118, 60.191199, 29.653118, 60.191199], &quot;geometry&quot;: {&quot;coordinates&quot;: [29.653118, 60.191199], &quot;type&quot;: &quot;Point&quot;}, &quot;id&quot;: &quot;8&quot;, &quot;properties&quot;: {&quot;City function&quot;: &quot;\\u0421\\u043f\\u043e\\u0440\\u0442&quot;, &quot;Coordinates x&quot;: 29.653118, &quot;Coordinates xy&quot;: &quot;29.65310451123709,60.19119348228904&quot;, &quot;Coordinates y&quot;: 60.191199, &quot;Name&quot;: &quot;\\u041f\\u0440\\u0435\\u0437\\u0438\\u0434\\u0435\\u043d\\u0442-\\u041e\\u0442\\u0435\\u043b\\u044c&quot;, &quot;Type&quot;: &quot;\\u0411\\u0430\\u0441\\u0441\\u0435\\u0439\\u043d&quot;}, &quot;type&quot;: &quot;Feature&quot;}, {&quot;bbox&quot;: [30.579488, 59.733296, 30.579488, 59.733296], &quot;geometry&quot;: {&quot;coordinates&quot;: [30.579488, 59.733296], &quot;type&quot;: &quot;Point&quot;}, &quot;id&quot;: &quot;9&quot;, &quot;properties&quot;: {&quot;City function&quot;: &quot;\\u0421\\u043f\\u043e\\u0440\\u0442&quot;, &quot;Coordinates x&quot;: 30.579488, &quot;Coordinates xy&quot;: &quot;30.5794025,59.7332252&quot;, &quot;Coordinates y&quot;: 59.733296, &quot;Name&quot;: &quot;\\u0411\\u0430\\u0441\\u0441\\u0435\\u0439\\u043d \\u0418\\u0417&quot;, &quot;Type&quot;: &quot;\\u0411\\u0430\\u0441\\u0441\\u0435\\u0439\\u043d&quot;}, &quot;type&quot;: &quot;Feature&quot;}, {&quot;bbox&quot;: [30.270297, 59.973136, 30.270297, 59.973136], &quot;geometry&quot;: {&quot;coordinates&quot;: [30.270297, 59.973136], &quot;type&quot;: &quot;Point&quot;}, &quot;id&quot;: &quot;10&quot;, &quot;properties&quot;: {&quot;City function&quot;: &quot;\\u0421\\u043f\\u043e\\u0440\\u0442&quot;, &quot;Coordinates x&quot;: 30.270297, &quot;Coordinates xy&quot;: &quot;30.2705564,59.9730799&quot;, &quot;Coordinates y&quot;: 59.973136, &quot;Name&quot;: &quot;\\u0421\\u043f\\u0430\\u0440\\u0442\\u0430\\u043a&quot;, &quot;Type&quot;: &quot;\\u0411\\u0430\\u0441\\u0441\\u0435\\u0439\\u043d&quot;}, &quot;type&quot;: &quot;Feature&quot;}, {&quot;bbox&quot;: [30.067089, 59.724192, 30.067089, 59.724192], &quot;geometry&quot;: {&quot;coordinates&quot;: [30.067089, 59.724192], &quot;type&quot;: &quot;Point&quot;}, &quot;id&quot;: &quot;11&quot;, &quot;properties&quot;: {&quot;City function&quot;: &quot;\\u0421\\u043f\\u043e\\u0440\\u0442&quot;, &quot;Coordinates x&quot;: 30.067089, &quot;Coordinates xy&quot;: &quot;30.06720839752481,59.72422188393626&quot;, &quot;Coordinates y&quot;: 59.724192, &quot;Name&quot;: &quot;\\u0421\\u043f\\u043e\\u0440\\u0442\\u0438\\u0432\\u043d\\u043e\\u0435 \\u0441\\u043e\\u043e\\u0440\\u0443\\u0436\\u0435\\u043d\\u0438\\u0435&quot;, &quot;Type&quot;: &quot;\\u0411\\u0430\\u0441\\u0441\\u0435\\u0439\\u043d&quot;}, &quot;type&quot;: &quot;Feature&quot;}, {&quot;bbox&quot;: [30.146042, 59.994063, 30.146042, 59.994063], &quot;geometry&quot;: {&quot;coordinates&quot;: [30.146042, 59.994063], &quot;type&quot;: &quot;Point&quot;}, &quot;id&quot;: &quot;12&quot;, &quot;properties&quot;: {&quot;City function&quot;: &quot;\\u0421\\u043f\\u043e\\u0440\\u0442&quot;, &quot;Coordinates x&quot;: 30.146042, &quot;Coordinates xy&quot;: &quot;30.1461641,59.9936641&quot;, &quot;Coordinates y&quot;: 59.994063, &quot;Name&quot;: &quot;\\u0424\\u0438\\u0442\\u043d\\u0435\\u0441 \\u0425\\u0430\\u0443\\u0441&quot;, &quot;Type&quot;: &quot;\\u0411\\u0430\\u0441\\u0441\\u0435\\u0439\\u043d&quot;}, &quot;type&quot;: &quot;Feature&quot;}, {&quot;bbox&quot;: [30.199177, 59.857649, 30.199177, 59.857649], &quot;geometry&quot;: {&quot;coordinates&quot;: [30.199177, 59.857649], &quot;type&quot;: &quot;Point&quot;}, &quot;id&quot;: &quot;13&quot;, &quot;properties&quot;: {&quot;City function&quot;: &quot;\\u0421\\u043f\\u043e\\u0440\\u0442&quot;, &quot;Coordinates x&quot;: 30.199177, &quot;Coordinates xy&quot;: &quot;30.20023931064531,59.85797364266001&quot;, &quot;Coordinates y&quot;: 59.857649, &quot;Name&quot;: &quot;\\u0410\\u043b\\u044c\\u0444\\u0430 \\u0412\\u0435\\u043b\\u043d\\u0435\\u0441 \\u043a\\u043b\\u0443\\u0431&quot;, &quot;Type&quot;: &quot;\\u0411\\u0430\\u0441\\u0441\\u0435\\u0439\\u043d&quot;}, &quot;type&quot;: &quot;Feature&quot;}, {&quot;bbox&quot;: [30.454011, 59.868817, 30.454011, 59.868817], &quot;geometry&quot;: {&quot;coordinates&quot;: [30.454011, 59.868817], &quot;type&quot;: &quot;Point&quot;}, &quot;id&quot;: &quot;14&quot;, &quot;properties&quot;: {&quot;City function&quot;: &quot;\\u0421\\u043f\\u043e\\u0440\\u0442&quot;, &quot;Coordinates x&quot;: 30.454011, &quot;Coordinates xy&quot;: &quot;30.4540003,59.8688052&quot;, &quot;Coordinates y&quot;: 59.868817, &quot;Name&quot;: &quot;\\u0431\\u0430\\u0441\\u0441\\u0435\\u0439\\u043d \\u0417\\u0432\\u0435\\u0437\\u0434\\u0430&quot;, &quot;Type&quot;: &quot;\\u0411\\u0430\\u0441\\u0441\\u0435\\u0439\\u043d&quot;}, &quot;type&quot;: &quot;Feature&quot;}, {&quot;bbox&quot;: [30.363694, 59.922603, 30.363694, 59.922603], &quot;geometry&quot;: {&quot;coordinates&quot;: [30.363694, 59.922603], &quot;type&quot;: &quot;Point&quot;}, &quot;id&quot;: &quot;15&quot;, &quot;properties&quot;: {&quot;City function&quot;: &quot;\\u0421\\u043f\\u043e\\u0440\\u0442&quot;, &quot;Coordinates x&quot;: 30.363694, &quot;Coordinates xy&quot;: &quot;30.3637657854137,59.92259057542484&quot;, &quot;Coordinates y&quot;: 59.922603, &quot;Name&quot;: &quot;\\u041b\\u0438\\u0433\\u043e\\u0432\\u0441\\u043a\\u0438\\u0439&quot;, &quot;Type&quot;: &quot;\\u0411\\u0430\\u0441\\u0441\\u0435\\u0439\\u043d&quot;}, &quot;type&quot;: &quot;Feature&quot;}, {&quot;bbox&quot;: [30.342458, 59.976909, 30.342458, 59.976909], &quot;geometry&quot;: {&quot;coordinates&quot;: [30.342458, 59.976909], &quot;type&quot;: &quot;Point&quot;}, &quot;id&quot;: &quot;16&quot;, &quot;properties&quot;: {&quot;City function&quot;: &quot;\\u0421\\u043f\\u043e\\u0440\\u0442&quot;, &quot;Coordinates x&quot;: 30.342458, &quot;Coordinates xy&quot;: &quot;30.34251664510827,59.97688474950101&quot;, &quot;Coordinates y&quot;: 59.976909, &quot;Name&quot;: &quot;\\u0412\\u043e\\u0435\\u043d\\u043d\\u044b\\u0439 \\u0418\\u043d\\u0441\\u0442\\u0438\\u0442\\u0443\\u0442 \\u0424\\u0438\\u0437\\u0438\\u0447\\u0435\\u0441\\u043a\\u043e\\u0439 \\u041a\\u0443\\u043b\\u044c\\u0442\\u0443\\u0440\\u044b&quot;, &quot;Type&quot;: &quot;\\u0411\\u0430\\u0441\\u0441\\u0435\\u0439\\u043d&quot;}, &quot;type&quot;: &quot;Feature&quot;}, {&quot;bbox&quot;: [30.461341, 59.877321, 30.461341, 59.877321], &quot;geometry&quot;: {&quot;coordinates&quot;: [30.461341, 59.877321], &quot;type&quot;: &quot;Point&quot;}, &quot;id&quot;: &quot;17&quot;, &quot;properties&quot;: {&quot;City function&quot;: &quot;\\u0421\\u043f\\u043e\\u0440\\u0442&quot;, &quot;Coordinates x&quot;: 30.461341, &quot;Coordinates xy&quot;: &quot;30.46132279727569,59.87735817470246&quot;, &quot;Coordinates y&quot;: 59.877321, &quot;Name&quot;: &quot;\\u0410\\u0442\\u043b\\u0430\\u043d\\u0442\\u0438\\u043a\\u0430&quot;, &quot;Type&quot;: &quot;\\u0411\\u0430\\u0441\\u0441\\u0435\\u0439\\u043d&quot;}, &quot;type&quot;: &quot;Feature&quot;}, {&quot;bbox&quot;: [30.329576, 59.936508, 30.329576, 59.936508], &quot;geometry&quot;: {&quot;coordinates&quot;: [30.329576, 59.936508], &quot;type&quot;: &quot;Point&quot;}, &quot;id&quot;: &quot;18&quot;, &quot;properties&quot;: {&quot;City function&quot;: &quot;\\u0421\\u043f\\u043e\\u0440\\u0442&quot;, &quot;Coordinates x&quot;: 30.329576, &quot;Coordinates xy&quot;: &quot;30.3294046,59.9365668&quot;, &quot;Coordinates y&quot;: 59.936508, &quot;Name&quot;: &quot;\\u0410\\u043a\\u0432\\u0430-\\u0420\\u0430\\u0439&quot;, &quot;Type&quot;: &quot;\\u0411\\u0430\\u0441\\u0441\\u0435\\u0439\\u043d&quot;}, &quot;type&quot;: &quot;Feature&quot;}, {&quot;bbox&quot;: [30.30799, 59.868726, 30.30799, 59.868726], &quot;geometry&quot;: {&quot;coordinates&quot;: [30.30799, 59.868726], &quot;type&quot;: &quot;Point&quot;}, &quot;id&quot;: &quot;19&quot;, &quot;properties&quot;: {&quot;City function&quot;: &quot;\\u0421\\u043f\\u043e\\u0440\\u0442&quot;, &quot;Coordinates x&quot;: 30.30799, &quot;Coordinates xy&quot;: &quot;30.3077928,59.8685993&quot;, &quot;Coordinates y&quot;: 59.868726, &quot;Name&quot;: &quot;\\u0411\\u0430\\u0441\\u0441\\u0435\\u0439\\u043d \\u043c\\u0435\\u0436\\u0432\\u0443\\u0437\\u043e\\u0432\\u0441\\u043a\\u043e\\u0433\\u043e \\u0446\\u0435\\u043d\\u0442\\u0440\\u0430&quot;, &quot;Type&quot;: &quot;\\u0411\\u0430\\u0441\\u0441\\u0435\\u0439\\u043d&quot;}, &quot;type&quot;: &quot;Feature&quot;}, {&quot;bbox&quot;: [30.563713, 59.813129, 30.563713, 59.813129], &quot;geometry&quot;: {&quot;coordinates&quot;: [30.563713, 59.813129], &quot;type&quot;: &quot;Point&quot;}, &quot;id&quot;: &quot;20&quot;, &quot;properties&quot;: {&quot;City function&quot;: &quot;\\u0421\\u043f\\u043e\\u0440\\u0442&quot;, &quot;Coordinates x&quot;: 30.563713, &quot;Coordinates xy&quot;: &quot;30.56295448546135,59.81384802914087&quot;, &quot;Coordinates y&quot;: 59.813129, &quot;Name&quot;: &quot;\\u041d\\u0435\\u043f\\u0442\\u0443\\u043d&quot;, &quot;Type&quot;: &quot;\\u0411\\u0430\\u0441\\u0441\\u0435\\u0439\\u043d&quot;}, &quot;type&quot;: &quot;Feature&quot;}, {&quot;bbox&quot;: [30.274995, 60.089508, 30.274995, 60.089508], &quot;geometry&quot;: {&quot;coordinates&quot;: [30.274995, 60.089508], &quot;type&quot;: &quot;Point&quot;}, &quot;id&quot;: &quot;21&quot;, &quot;properties&quot;: {&quot;City function&quot;: &quot;\\u0421\\u043f\\u043e\\u0440\\u0442&quot;, &quot;Coordinates x&quot;: 30.274995, &quot;Coordinates xy&quot;: &quot;30.2749562,60.0894375&quot;, &quot;Coordinates y&quot;: 60.089508, &quot;Name&quot;: &quot;\\u0424\\u043e\\u0440\\u0442-\\u0420&quot;, &quot;Type&quot;: &quot;\\u0411\\u0430\\u0441\\u0441\\u0435\\u0439\\u043d&quot;}, &quot;type&quot;: &quot;Feature&quot;}, {&quot;bbox&quot;: [29.456639, 60.177137, 29.456639, 60.177137], &quot;geometry&quot;: {&quot;coordinates&quot;: [29.456639, 60.177137], &quot;type&quot;: &quot;Point&quot;}, &quot;id&quot;: &quot;22&quot;, &quot;properties&quot;: {&quot;City function&quot;: &quot;\\u0421\\u043f\\u043e\\u0440\\u0442&quot;, &quot;Coordinates x&quot;: 29.456639, &quot;Coordinates xy&quot;: &quot;29.45669162528571,60.17717049235777&quot;, &quot;Coordinates y&quot;: 60.177137, &quot;Name&quot;: &quot;\\u0421\\u043f\\u043e\\u0440\\u0442\\u0438\\u0432\\u043d\\u043e\\u0435 \\u0441\\u043e\\u043e\\u0440\\u0443\\u0436\\u0435\\u043d\\u0438\\u0435&quot;, &quot;Type&quot;: &quot;\\u0411\\u0430\\u0441\\u0441\\u0435\\u0439\\u043d&quot;}, &quot;type&quot;: &quot;Feature&quot;}, {&quot;bbox&quot;: [30.263281, 59.968025, 30.263281, 59.968025], &quot;geometry&quot;: {&quot;coordinates&quot;: [30.263281, 59.968025], &quot;type&quot;: &quot;Point&quot;}, &quot;id&quot;: &quot;23&quot;, &quot;properties&quot;: {&quot;City function&quot;: &quot;\\u0421\\u043f\\u043e\\u0440\\u0442&quot;, &quot;Coordinates x&quot;: 30.263281, &quot;Coordinates xy&quot;: &quot;30.2628494,59.9684996&quot;, &quot;Coordinates y&quot;: 59.968025, &quot;Name&quot;: &quot;\\u0414\\u0438\\u043d\\u0430\\u043c\\u043e&quot;, &quot;Type&quot;: &quot;\\u0411\\u0430\\u0441\\u0441\\u0435\\u0439\\u043d&quot;}, &quot;type&quot;: &quot;Feature&quot;}, {&quot;bbox&quot;: [30.312526, 60.001401, 30.312526, 60.001401], &quot;geometry&quot;: {&quot;coordinates&quot;: [30.312526, 60.001401], &quot;type&quot;: &quot;Point&quot;}, &quot;id&quot;: &quot;24&quot;, &quot;properties&quot;: {&quot;City function&quot;: &quot;\\u0421\\u043f\\u043e\\u0440\\u0442&quot;, &quot;Coordinates x&quot;: 30.312526, &quot;Coordinates xy&quot;: &quot;30.3120984,60.0013899&quot;, &quot;Coordinates y&quot;: 60.001401, &quot;Name&quot;: &quot;\\u0421\\u041a \\u041f\\u0440\\u0435\\u043c\\u0438\\u0443\\u043c-\\u0441\\u043f\\u043e\\u0440\\u0442&quot;, &quot;Type&quot;: &quot;\\u0411\\u0430\\u0441\\u0441\\u0435\\u0439\\u043d&quot;}, &quot;type&quot;: &quot;Feature&quot;}, {&quot;bbox&quot;: [30.277699, 60.012674, 30.277699, 60.012674], &quot;geometry&quot;: {&quot;coordinates&quot;: [30.277699, 60.012674], &quot;type&quot;: &quot;Point&quot;}, &quot;id&quot;: &quot;25&quot;, &quot;properties&quot;: {&quot;City function&quot;: &quot;\\u0421\\u043f\\u043e\\u0440\\u0442&quot;, &quot;Coordinates x&quot;: 30.277699, &quot;Coordinates xy&quot;: &quot;30.2777028,60.0126461&quot;, &quot;Coordinates y&quot;: 60.012674, &quot;Name&quot;: &quot;\\u0411\\u0430\\u0441\\u0441\\u0435\\u0439\\u043d \\u0421\\u0414\\u042e\\u0428\\u041e\\u0420 \\u041f\\u0440\\u0438\\u043c\\u043e\\u0440\\u0441\\u043a\\u043e\\u0433\\u043e \\u0440\\u0430\\u0439\\u043e\\u043d\\u0430 \\u0421\\u041f\\u0431&quot;, &quot;Type&quot;: &quot;\\u0411\\u0430\\u0441\\u0441\\u0435\\u0439\\u043d&quot;}, &quot;type&quot;: &quot;Feature&quot;}, {&quot;bbox&quot;: [30.485668, 59.854242, 30.485668, 59.854242], &quot;geometry&quot;: {&quot;coordinates&quot;: [30.485668, 59.854242], &quot;type&quot;: &quot;Point&quot;}, &quot;id&quot;: &quot;26&quot;, &quot;properties&quot;: {&quot;City function&quot;: &quot;\\u0421\\u043f\\u043e\\u0440\\u0442&quot;, &quot;Coordinates x&quot;: 30.485668, &quot;Coordinates xy&quot;: &quot;30.48555968858526,59.85420572443891&quot;, &quot;Coordinates y&quot;: 59.854242, &quot;Name&quot;: &quot;H2o&quot;, &quot;Type&quot;: &quot;\\u0411\\u0430\\u0441\\u0441\\u0435\\u0439\\u043d&quot;}, &quot;type&quot;: &quot;Feature&quot;}, {&quot;bbox&quot;: [30.483215, 59.843019, 30.483215, 59.843019], &quot;geometry&quot;: {&quot;coordinates&quot;: [30.483215, 59.843019], &quot;type&quot;: &quot;Point&quot;}, &quot;id&quot;: &quot;27&quot;, &quot;properties&quot;: {&quot;City function&quot;: &quot;\\u0421\\u043f\\u043e\\u0440\\u0442&quot;, &quot;Coordinates x&quot;: 30.483215, &quot;Coordinates xy&quot;: &quot;30.48334098988448,59.84302956172529&quot;, &quot;Coordinates y&quot;: 59.843019, &quot;Name&quot;: &quot;Beauty Point&quot;, &quot;Type&quot;: &quot;\\u0411\\u0430\\u0441\\u0441\\u0435\\u0439\\u043d&quot;}, &quot;type&quot;: &quot;Feature&quot;}, {&quot;bbox&quot;: [30.331175, 60.003957, 30.331175, 60.003957], &quot;geometry&quot;: {&quot;coordinates&quot;: [30.331175, 60.003957], &quot;type&quot;: &quot;Point&quot;}, &quot;id&quot;: &quot;28&quot;, &quot;properties&quot;: {&quot;City function&quot;: &quot;\\u0421\\u043f\\u043e\\u0440\\u0442&quot;, &quot;Coordinates x&quot;: 30.331175, &quot;Coordinates xy&quot;: &quot;30.3312316,60.0034338&quot;, &quot;Coordinates y&quot;: 60.003957, &quot;Name&quot;: &quot;\\u0428\\u043a\\u043e\\u043b\\u0430 \\u0441\\u0438\\u043d\\u0445\\u0440\\u043e\\u043d\\u043d\\u043e\\u0433\\u043e \\u043f\\u043b\\u0430\\u0432\\u0430\\u043d\\u0438\\u044f Synchroswimspb&quot;, &quot;Type&quot;: &quot;\\u0411\\u0430\\u0441\\u0441\\u0435\\u0439\\u043d&quot;}, &quot;type&quot;: &quot;Feature&quot;}, {&quot;bbox&quot;: [30.328022, 60.005324, 30.328022, 60.005324], &quot;geometry&quot;: {&quot;coordinates&quot;: [30.328022, 60.005324], &quot;type&quot;: &quot;Point&quot;}, &quot;id&quot;: &quot;29&quot;, &quot;properties&quot;: {&quot;City function&quot;: &quot;\\u0421\\u043f\\u043e\\u0440\\u0442&quot;, &quot;Coordinates x&quot;: 30.328022, &quot;Coordinates xy&quot;: &quot;30.3286233,60.0054815&quot;, &quot;Coordinates y&quot;: 60.005324, &quot;Name&quot;: &quot;\\u0428\\u043a\\u043e\\u043b\\u0430 \\u043f\\u043b\\u0430\\u0432\\u0430\\u043d\\u0438\\u044f in Swim&quot;, &quot;Type&quot;: &quot;\\u0411\\u0430\\u0441\\u0441\\u0435\\u0439\\u043d&quot;}, &quot;type&quot;: &quot;Feature&quot;}, {&quot;bbox&quot;: [30.411988, 59.872408, 30.411988, 59.872408], &quot;geometry&quot;: {&quot;coordinates&quot;: [30.411988, 59.872408], &quot;type&quot;: &quot;Point&quot;}, &quot;id&quot;: &quot;30&quot;, &quot;properties&quot;: {&quot;City function&quot;: &quot;\\u0421\\u043f\\u043e\\u0440\\u0442&quot;, &quot;Coordinates x&quot;: 30.411988, &quot;Coordinates xy&quot;: &quot;30.41203308978971,59.87239489226885&quot;, &quot;Coordinates y&quot;: 59.872408, &quot;Name&quot;: &quot;\\u041a\\u0443\\u0440\\u0441\\u044b \\u0434\\u043b\\u044f \\u0431\\u0435\\u0440\\u0435\\u043c\\u0435\\u043d\\u043d\\u044b\\u0445. \\u0428\\u043a\\u043e\\u043b\\u0430 \\u0412\\u0435\\u0440\\u0431\\u043e\\u0447\\u043a\\u0430.&quot;, &quot;Type&quot;: &quot;\\u0411\\u0430\\u0441\\u0441\\u0435\\u0439\\u043d&quot;}, &quot;type&quot;: &quot;Feature&quot;}, {&quot;bbox&quot;: [30.258349, 59.935854, 30.258349, 59.935854], &quot;geometry&quot;: {&quot;coordinates&quot;: [30.258349, 59.935854], &quot;type&quot;: &quot;Point&quot;}, &quot;id&quot;: &quot;31&quot;, &quot;properties&quot;: {&quot;City function&quot;: &quot;\\u0421\\u043f\\u043e\\u0440\\u0442&quot;, &quot;Coordinates x&quot;: 30.258349, &quot;Coordinates xy&quot;: &quot;30.25830878289974,59.93584876394453&quot;, &quot;Coordinates y&quot;: 59.935854, &quot;Name&quot;: &quot;\\u0411\\u0430\\u0441\\u0441\\u0435\\u0439\\u043d \\u0413\\u043e\\u0440\\u043d\\u043e\\u0433\\u043e \\u0443\\u043d\\u0438\\u0432\\u0435\\u0440\\u0441\\u0438\\u0442\\u0435\\u0442\\u0430&quot;, &quot;Type&quot;: &quot;\\u0411\\u0430\\u0441\\u0441\\u0435\\u0439\\u043d&quot;}, &quot;type&quot;: &quot;Feature&quot;}, {&quot;bbox&quot;: [30.205681, 60.002324, 30.205681, 60.002324], &quot;geometry&quot;: {&quot;coordinates&quot;: [30.205681, 60.002324], &quot;type&quot;: &quot;Point&quot;}, &quot;id&quot;: &quot;32&quot;, &quot;properties&quot;: {&quot;City function&quot;: &quot;\\u0421\\u043f\\u043e\\u0440\\u0442&quot;, &quot;Coordinates x&quot;: 30.205681, &quot;Coordinates xy&quot;: &quot;30.2065387,60.002172&quot;, &quot;Coordinates y&quot;: 60.002324, &quot;Name&quot;: &quot;\\u0410\\u041a\\u0412\\u0410\\u0414\\u0415\\u0422\\u0418&quot;, &quot;Type&quot;: &quot;\\u0411\\u0430\\u0441\\u0441\\u0435\\u0439\\u043d&quot;}, &quot;type&quot;: &quot;Feature&quot;}, {&quot;bbox&quot;: [30.471681, 59.938752, 30.471681, 59.938752], &quot;geometry&quot;: {&quot;coordinates&quot;: [30.471681, 59.938752], &quot;type&quot;: &quot;Point&quot;}, &quot;id&quot;: &quot;33&quot;, &quot;properties&quot;: {&quot;City function&quot;: &quot;\\u0421\\u043f\\u043e\\u0440\\u0442&quot;, &quot;Coordinates x&quot;: 30.471681, &quot;Coordinates xy&quot;: &quot;30.47163975891589,59.9386877209554&quot;, &quot;Coordinates y&quot;: 59.938752, &quot;Name&quot;: &quot;\\u0410\\u0442\\u043b\\u0430\\u043d\\u0442\\u0438\\u043a\\u0430&quot;, &quot;Type&quot;: &quot;\\u0411\\u0430\\u0441\\u0441\\u0435\\u0439\\u043d&quot;}, &quot;type&quot;: &quot;Feature&quot;}, {&quot;bbox&quot;: [30.297659, 59.94056, 30.297659, 59.94056], &quot;geometry&quot;: {&quot;coordinates&quot;: [30.297659, 59.94056], &quot;type&quot;: &quot;Point&quot;}, &quot;id&quot;: &quot;34&quot;, &quot;properties&quot;: {&quot;City function&quot;: &quot;\\u0421\\u043f\\u043e\\u0440\\u0442&quot;, &quot;Coordinates x&quot;: 30.297659, &quot;Coordinates xy&quot;: &quot;30.29762757754903,59.94057142832382&quot;, &quot;Coordinates y&quot;: 59.94056, &quot;Name&quot;: &quot;\\u0411\\u0430\\u0441\\u0441\\u0435\\u0439\\u043d \\u0421\\u041f\\u0431\\u0413\\u0423&quot;, &quot;Type&quot;: &quot;\\u0411\\u0430\\u0441\\u0441\\u0435\\u0439\\u043d&quot;}, &quot;type&quot;: &quot;Feature&quot;}, {&quot;bbox&quot;: [30.406733, 60.034232, 30.406733, 60.034232], &quot;geometry&quot;: {&quot;coordinates&quot;: [30.406733, 60.034232], &quot;type&quot;: &quot;Point&quot;}, &quot;id&quot;: &quot;35&quot;, &quot;properties&quot;: {&quot;City function&quot;: &quot;\\u0421\\u043f\\u043e\\u0440\\u0442&quot;, &quot;Coordinates x&quot;: 30.406733, &quot;Coordinates xy&quot;: &quot;30.40691567438582,60.03416735883608&quot;, &quot;Coordinates y&quot;: 60.034232, &quot;Name&quot;: &quot;\\u0421\\u0414\\u042e\\u0421\\u0428\\u041e\\u0420 \\u21163&quot;, &quot;Type&quot;: &quot;\\u0411\\u0430\\u0441\\u0441\\u0435\\u0439\\u043d&quot;}, &quot;type&quot;: &quot;Feature&quot;}, {&quot;bbox&quot;: [30.366659, 59.888284, 30.366659, 59.888284], &quot;geometry&quot;: {&quot;coordinates&quot;: [30.366659, 59.888284], &quot;type&quot;: &quot;Point&quot;}, &quot;id&quot;: &quot;36&quot;, &quot;properties&quot;: {&quot;City function&quot;: &quot;\\u0421\\u043f\\u043e\\u0440\\u0442&quot;, &quot;Coordinates x&quot;: 30.366659, &quot;Coordinates xy&quot;: &quot;30.36674585283094,59.88828820640374&quot;, &quot;Coordinates y&quot;: 59.888284, &quot;Name&quot;: &quot;\\u0410\\u0442\\u043b\\u0430\\u043d\\u0442\\u0438\\u043a\\u0430&quot;, &quot;Type&quot;: &quot;\\u0411\\u0430\\u0441\\u0441\\u0435\\u0439\\u043d&quot;}, &quot;type&quot;: &quot;Feature&quot;}, {&quot;bbox&quot;: [30.238191, 59.940384, 30.238191, 59.940384], &quot;geometry&quot;: {&quot;coordinates&quot;: [30.238191, 59.940384], &quot;type&quot;: &quot;Point&quot;}, &quot;id&quot;: &quot;37&quot;, &quot;properties&quot;: {&quot;City function&quot;: &quot;\\u0421\\u043f\\u043e\\u0440\\u0442&quot;, &quot;Coordinates x&quot;: 30.238191, &quot;Coordinates xy&quot;: &quot;30.23818563237106,59.94038162844967&quot;, &quot;Coordinates y&quot;: 59.940384, &quot;Name&quot;: &quot;\\u042e\\u043d\\u043e\\u0441\\u0442\\u044c \\u0420\\u043e\\u0441\\u0441\\u0438\\u0438&quot;, &quot;Type&quot;: &quot;\\u0411\\u0430\\u0441\\u0441\\u0435\\u0439\\u043d&quot;}, &quot;type&quot;: &quot;Feature&quot;}, {&quot;bbox&quot;: [30.37725, 59.998454, 30.37725, 59.998454], &quot;geometry&quot;: {&quot;coordinates&quot;: [30.37725, 59.998454], &quot;type&quot;: &quot;Point&quot;}, &quot;id&quot;: &quot;38&quot;, &quot;properties&quot;: {&quot;City function&quot;: &quot;\\u0421\\u043f\\u043e\\u0440\\u0442&quot;, &quot;Coordinates x&quot;: 30.37725, &quot;Coordinates xy&quot;: &quot;30.37716134519785,59.99847729280673&quot;, &quot;Coordinates y&quot;: 59.998454, &quot;Name&quot;: &quot;\\u0411\\u0430\\u0441\\u0441\\u0435\\u0439\\u043d \\u043c\\u0430\\u0442\\u0435\\u0440\\u0438 \\u0438 \\u0440\\u0435\\u0431\\u0435\\u043d\\u043a\\u0430&quot;, &quot;Type&quot;: &quot;\\u0411\\u0430\\u0441\\u0441\\u0435\\u0439\\u043d&quot;}, &quot;type&quot;: &quot;Feature&quot;}, {&quot;bbox&quot;: [30.217826, 59.90358, 30.217826, 59.90358], &quot;geometry&quot;: {&quot;coordinates&quot;: [30.217826, 59.90358], &quot;type&quot;: &quot;Point&quot;}, &quot;id&quot;: &quot;39&quot;, &quot;properties&quot;: {&quot;City function&quot;: &quot;\\u0421\\u043f\\u043e\\u0440\\u0442&quot;, &quot;Coordinates x&quot;: 30.217826, &quot;Coordinates xy&quot;: &quot;30.2180493,59.9036665&quot;, &quot;Coordinates y&quot;: 59.90358, &quot;Name&quot;: &quot;\\u041f\\u0440\\u0438\\u0431\\u043e\\u0439&quot;, &quot;Type&quot;: &quot;\\u0411\\u0430\\u0441\\u0441\\u0435\\u0439\\u043d&quot;}, &quot;type&quot;: &quot;Feature&quot;}, {&quot;bbox&quot;: [30.610417, 59.736439, 30.610417, 59.736439], &quot;geometry&quot;: {&quot;coordinates&quot;: [30.610417, 59.736439], &quot;type&quot;: &quot;Point&quot;}, &quot;id&quot;: &quot;40&quot;, &quot;properties&quot;: {&quot;City function&quot;: &quot;\\u0421\\u043f\\u043e\\u0440\\u0442&quot;, &quot;Coordinates x&quot;: 30.610417, &quot;Coordinates xy&quot;: &quot;30.60981693395691,59.7365097909848&quot;, &quot;Coordinates y&quot;: 59.736439, &quot;Name&quot;: &quot;\\u0418\\u0436\\u043e\\u0440\\u0435\\u0446&quot;, &quot;Type&quot;: &quot;\\u0411\\u0430\\u0441\\u0441\\u0435\\u0439\\u043d&quot;}, &quot;type&quot;: &quot;Feature&quot;}, {&quot;bbox&quot;: [30.324133, 59.956913, 30.324133, 59.956913], &quot;geometry&quot;: {&quot;coordinates&quot;: [30.324133, 59.956913], &quot;type&quot;: &quot;Point&quot;}, &quot;id&quot;: &quot;41&quot;, &quot;properties&quot;: {&quot;City function&quot;: &quot;\\u0421\\u043f\\u043e\\u0440\\u0442&quot;, &quot;Coordinates x&quot;: 30.324133, &quot;Coordinates xy&quot;: &quot;30.32411999313685,59.95689674890841&quot;, &quot;Coordinates y&quot;: 59.956913, &quot;Name&quot;: &quot;\\u0414\\u043e\\u043c \\u0424\\u0438\\u0437\\u0438\\u0447\\u0435\\u0441\\u043a\\u043e\\u0439 \\u041a\\u0443\\u043b\\u044c\\u0442\\u0443\\u0440\\u044b&quot;, &quot;Type&quot;: &quot;\\u0411\\u0430\\u0441\\u0441\\u0435\\u0439\\u043d&quot;}, &quot;type&quot;: &quot;Feature&quot;}, {&quot;bbox&quot;: [29.780248, 59.987816, 29.780248, 59.987816], &quot;geometry&quot;: {&quot;coordinates&quot;: [29.780248, 59.987816], &quot;type&quot;: &quot;Point&quot;}, &quot;id&quot;: &quot;42&quot;, &quot;properties&quot;: {&quot;City function&quot;: &quot;\\u0421\\u043f\\u043e\\u0440\\u0442&quot;, &quot;Coordinates x&quot;: 29.780248, &quot;Coordinates xy&quot;: &quot;29.78029586203415,59.98782091946214&quot;, &quot;Coordinates y&quot;: 59.987816, &quot;Name&quot;: &quot;\\u0426\\u0435\\u043d\\u0442\\u0440 \\u043c\\u043e\\u0440\\u0441\\u043a\\u043e\\u0439 \\u0438 \\u0444\\u0438\\u0437\\u0438\\u0447\\u0435\\u0441\\u043a\\u043e\\u0439 \\u043f\\u043e\\u0434\\u0433\\u043e\\u0442\\u043e\\u0432\\u043a\\u0438&quot;, &quot;Type&quot;: &quot;\\u0411\\u0430\\u0441\\u0441\\u0435\\u0439\\u043d&quot;}, &quot;type&quot;: &quot;Feature&quot;}, {&quot;bbox&quot;: [30.349133, 59.914615, 30.349133, 59.914615], &quot;geometry&quot;: {&quot;coordinates&quot;: [30.349133, 59.914615], &quot;type&quot;: &quot;Point&quot;}, &quot;id&quot;: &quot;43&quot;, &quot;properties&quot;: {&quot;City function&quot;: &quot;\\u0421\\u043f\\u043e\\u0440\\u0442&quot;, &quot;Coordinates x&quot;: 30.349133, &quot;Coordinates xy&quot;: &quot;30.3497172,59.914782&quot;, &quot;Coordinates y&quot;: 59.914615, &quot;Name&quot;: &quot;Sportlife&quot;, &quot;Type&quot;: &quot;\\u0411\\u0430\\u0441\\u0441\\u0435\\u0439\\u043d&quot;}, &quot;type&quot;: &quot;Feature&quot;}, {&quot;bbox&quot;: [30.321752, 59.885029, 30.321752, 59.885029], &quot;geometry&quot;: {&quot;coordinates&quot;: [30.321752, 59.885029], &quot;type&quot;: &quot;Point&quot;}, &quot;id&quot;: &quot;44&quot;, &quot;properties&quot;: {&quot;City function&quot;: &quot;\\u0421\\u043f\\u043e\\u0440\\u0442&quot;, &quot;Coordinates x&quot;: 30.321752, &quot;Coordinates xy&quot;: &quot;30.3217749824198,59.88504143415226&quot;, &quot;Coordinates y&quot;: 59.885029, &quot;Name&quot;: &quot;\\u0414\\u0432\\u043e\\u0440\\u0435\\u0446 \\u0441\\u043f\\u043e\\u0440\\u0442\\u0430 \\u201c\\u0412\\u043e\\u043b\\u043d\\u0430\\u201d&quot;, &quot;Type&quot;: &quot;\\u0411\\u0430\\u0441\\u0441\\u0435\\u0439\\u043d&quot;}, &quot;type&quot;: &quot;Feature&quot;}, {&quot;bbox&quot;: [30.307352, 59.908101, 30.307352, 59.908101], &quot;geometry&quot;: {&quot;coordinates&quot;: [30.307352, 59.908101], &quot;type&quot;: &quot;Point&quot;}, &quot;id&quot;: &quot;45&quot;, &quot;properties&quot;: {&quot;City function&quot;: &quot;\\u0421\\u043f\\u043e\\u0440\\u0442&quot;, &quot;Coordinates x&quot;: 30.307352, &quot;Coordinates xy&quot;: &quot;30.3071185,59.9062872&quot;, &quot;Coordinates y&quot;: 59.908101, &quot;Name&quot;: &quot;SportLife&quot;, &quot;Type&quot;: &quot;\\u0411\\u0430\\u0441\\u0441\\u0435\\u0439\\u043d&quot;}, &quot;type&quot;: &quot;Feature&quot;}, {&quot;bbox&quot;: [30.45738, 59.925466, 30.45738, 59.925466], &quot;geometry&quot;: {&quot;coordinates&quot;: [30.45738, 59.925466], &quot;type&quot;: &quot;Point&quot;}, &quot;id&quot;: &quot;46&quot;, &quot;properties&quot;: {&quot;City function&quot;: &quot;\\u0421\\u043f\\u043e\\u0440\\u0442&quot;, &quot;Coordinates x&quot;: 30.45738, &quot;Coordinates xy&quot;: &quot;30.45615808402922,59.92568517521937&quot;, &quot;Coordinates y&quot;: 59.925466, &quot;Name&quot;: &quot;\\u0411\\u0430\\u0441\\u0441\\u0435\\u0439\\u043d \\u0448\\u043a\\u043e\\u043b\\u044b \\u2116639&quot;, &quot;Type&quot;: &quot;\\u0411\\u0430\\u0441\\u0441\\u0435\\u0439\\u043d&quot;}, &quot;type&quot;: &quot;Feature&quot;}, {&quot;bbox&quot;: [30.280501, 59.926242, 30.280501, 59.926242], &quot;geometry&quot;: {&quot;coordinates&quot;: [30.280501, 59.926242], &quot;type&quot;: &quot;Point&quot;}, &quot;id&quot;: &quot;47&quot;, &quot;properties&quot;: {&quot;City function&quot;: &quot;\\u0421\\u043f\\u043e\\u0440\\u0442&quot;, &quot;Coordinates x&quot;: 30.280501, &quot;Coordinates xy&quot;: &quot;30.2805281,59.9272002&quot;, &quot;Coordinates y&quot;: 59.926242, &quot;Name&quot;: &quot;\\u0411\\u0430\\u0441\\u0441\\u0435\\u0439\\u043d \\u0448\\u043a\\u043e\\u043b\\u044b \\u2116235&quot;, &quot;Type&quot;: &quot;\\u0411\\u0430\\u0441\\u0441\\u0435\\u0439\\u043d&quot;}, &quot;type&quot;: &quot;Feature&quot;}, {&quot;bbox&quot;: [30.108088, 59.854233, 30.108088, 59.854233], &quot;geometry&quot;: {&quot;coordinates&quot;: [30.108088, 59.854233], &quot;type&quot;: &quot;Point&quot;}, &quot;id&quot;: &quot;48&quot;, &quot;properties&quot;: {&quot;City function&quot;: &quot;\\u0421\\u043f\\u043e\\u0440\\u0442&quot;, &quot;Coordinates x&quot;: 30.108088, &quot;Coordinates xy&quot;: &quot;30.10801769878406,59.85446055335624&quot;, &quot;Coordinates y&quot;: 59.854233, &quot;Name&quot;: &quot;\\u0410\\u0442\\u043b\\u0430\\u043d\\u0442\\u0438\\u043a\\u0430&quot;, &quot;Type&quot;: &quot;\\u0411\\u0430\\u0441\\u0441\\u0435\\u0439\\u043d&quot;}, &quot;type&quot;: &quot;Feature&quot;}, {&quot;bbox&quot;: [30.38547, 59.924997, 30.38547, 59.924997], &quot;geometry&quot;: {&quot;coordinates&quot;: [30.38547, 59.924997], &quot;type&quot;: &quot;Point&quot;}, &quot;id&quot;: &quot;49&quot;, &quot;properties&quot;: {&quot;City function&quot;: &quot;\\u0421\\u043f\\u043e\\u0440\\u0442&quot;, &quot;Coordinates x&quot;: 30.38547, &quot;Coordinates xy&quot;: &quot;30.38544269669571,59.92502835997824&quot;, &quot;Coordinates y&quot;: 59.924997, &quot;Name&quot;: &quot;\\u041d\\u0430\\u0442\\u0430\\u0448\\u0430&quot;, &quot;Type&quot;: &quot;\\u0411\\u0430\\u0441\\u0441\\u0435\\u0439\\u043d&quot;}, &quot;type&quot;: &quot;Feature&quot;}, {&quot;bbox&quot;: [30.362068, 60.004762, 30.362068, 60.004762], &quot;geometry&quot;: {&quot;coordinates&quot;: [30.362068, 60.004762], &quot;type&quot;: &quot;Point&quot;}, &quot;id&quot;: &quot;50&quot;, &quot;properties&quot;: {&quot;City function&quot;: &quot;\\u0421\\u043f\\u043e\\u0440\\u0442&quot;, &quot;Coordinates x&quot;: 30.362068, &quot;Coordinates xy&quot;: &quot;30.3619063,60.0051109&quot;, &quot;Coordinates y&quot;: 60.004762, &quot;Name&quot;: &quot;\\u0411\\u0430\\u0441\\u0441\\u0435\\u0439\\u043d \\u00ab\\u042d\\u043a\\u0440\\u0430\\u043d\\u00bb&quot;, &quot;Type&quot;: &quot;\\u0411\\u0430\\u0441\\u0441\\u0435\\u0439\\u043d&quot;}, &quot;type&quot;: &quot;Feature&quot;}, {&quot;bbox&quot;: [30.369084, 60.002733, 30.369084, 60.002733], &quot;geometry&quot;: {&quot;coordinates&quot;: [30.369084, 60.002733], &quot;type&quot;: &quot;Point&quot;}, &quot;id&quot;: &quot;51&quot;, &quot;properties&quot;: {&quot;City function&quot;: &quot;\\u0421\\u043f\\u043e\\u0440\\u0442&quot;, &quot;Coordinates x&quot;: 30.369084, &quot;Coordinates xy&quot;: &quot;30.36930356423281,60.00271539100721&quot;, &quot;Coordinates y&quot;: 60.002733, &quot;Name&quot;: &quot;\\u0421\\u043f\\u043e\\u0440\\u0442\\u0438\\u0432\\u043d\\u044b\\u0439 \\u043a\\u043e\\u043c\\u043f\\u043b\\u0435\\u043a\\u0441&quot;, &quot;Type&quot;: &quot;\\u0411\\u0430\\u0441\\u0441\\u0435\\u0439\\u043d&quot;}, &quot;type&quot;: &quot;Feature&quot;}, {&quot;bbox&quot;: [30.24482, 59.95243, 30.24482, 59.95243], &quot;geometry&quot;: {&quot;coordinates&quot;: [30.24482, 59.95243], &quot;type&quot;: &quot;Point&quot;}, &quot;id&quot;: &quot;52&quot;, &quot;properties&quot;: {&quot;City function&quot;: &quot;\\u0421\\u043f\\u043e\\u0440\\u0442&quot;, &quot;Coordinates x&quot;: 30.24482, &quot;Coordinates xy&quot;: &quot;30.2450017,59.9523512&quot;, &quot;Coordinates y&quot;: 59.95243, &quot;Name&quot;: &quot;\\u041c\\u043e\\u0440\\u0441\\u043a\\u0430\\u044f \\u0448\\u043a\\u043e\\u043b\\u0430 \\u0414\\u041e\\u0421\\u0410\\u0410\\u0424&quot;, &quot;Type&quot;: &quot;\\u0411\\u0430\\u0441\\u0441\\u0435\\u0439\\u043d&quot;}, &quot;type&quot;: &quot;Feature&quot;}, {&quot;bbox&quot;: [30.182594, 59.852737, 30.182594, 59.852737], &quot;geometry&quot;: {&quot;coordinates&quot;: [30.182594, 59.852737], &quot;type&quot;: &quot;Point&quot;}, &quot;id&quot;: &quot;53&quot;, &quot;properties&quot;: {&quot;City function&quot;: &quot;\\u0421\\u043f\\u043e\\u0440\\u0442&quot;, &quot;Coordinates x&quot;: 30.182594, &quot;Coordinates xy&quot;: &quot;30.18248006136028,59.8527404244327&quot;, &quot;Coordinates y&quot;: 59.852737, &quot;Name&quot;: &quot;\\u0424\\u041e\\u041a \\u0424\\u043b\\u0430\\u043c\\u0438\\u043d\\u0433\\u043e&quot;, &quot;Type&quot;: &quot;\\u0411\\u0430\\u0441\\u0441\\u0435\\u0439\\u043d&quot;}, &quot;type&quot;: &quot;Feature&quot;}, {&quot;bbox&quot;: [30.375337, 59.997721, 30.375337, 59.997721], &quot;geometry&quot;: {&quot;coordinates&quot;: [30.375337, 59.997721], &quot;type&quot;: &quot;Point&quot;}, &quot;id&quot;: &quot;54&quot;, &quot;properties&quot;: {&quot;City function&quot;: &quot;\\u0421\\u043f\\u043e\\u0440\\u0442&quot;, &quot;Coordinates x&quot;: 30.375337, &quot;Coordinates xy&quot;: &quot;30.3752318579449,59.99782379265196&quot;, &quot;Coordinates y&quot;: 59.997721, &quot;Name&quot;: &quot;\\u0421\\u043f\\u043e\\u0440\\u0442\\u043a\\u043e\\u043c\\u043f\\u043b\\u0435\\u043a\\u0441 \\&quot;\\u041a\\u0440\\u0430\\u0441\\u043d\\u044b\\u0439 \\u041e\\u043a\\u0442\\u044f\\u0431\\u0440\\u044c\\&quot;&quot;, &quot;Type&quot;: &quot;\\u0411\\u0430\\u0441\\u0441\\u0435\\u0439\\u043d&quot;}, &quot;type&quot;: &quot;Feature&quot;}, {&quot;bbox&quot;: [29.972424, 60.121699, 29.972424, 60.121699], &quot;geometry&quot;: {&quot;coordinates&quot;: [29.972424, 60.121699], &quot;type&quot;: &quot;Point&quot;}, &quot;id&quot;: &quot;55&quot;, &quot;properties&quot;: {&quot;City function&quot;: &quot;\\u0421\\u043f\\u043e\\u0440\\u0442&quot;, &quot;Coordinates x&quot;: 29.972424, &quot;Coordinates xy&quot;: &quot;29.97232687197553,60.12172113565454&quot;, &quot;Coordinates y&quot;: 60.121699, &quot;Name&quot;: &quot;\\u0417\\u043e\\u043b\\u043e\\u0442\\u043e\\u0439 \\u0440\\u0443\\u0447\\u0435\\u0439&quot;, &quot;Type&quot;: &quot;\\u0411\\u0430\\u0441\\u0441\\u0435\\u0439\\u043d&quot;}, &quot;type&quot;: &quot;Feature&quot;}, {&quot;bbox&quot;: [30.305879, 60.034214, 30.305879, 60.034214], &quot;geometry&quot;: {&quot;coordinates&quot;: [30.305879, 60.034214], &quot;type&quot;: &quot;Point&quot;}, &quot;id&quot;: &quot;56&quot;, &quot;properties&quot;: {&quot;City function&quot;: &quot;\\u0421\\u043f\\u043e\\u0440\\u0442&quot;, &quot;Coordinates x&quot;: 30.305879, &quot;Coordinates xy&quot;: &quot;30.3074376548074,60.03962691455478&quot;, &quot;Coordinates y&quot;: 60.034214, &quot;Name&quot;: &quot;\\u041a\\u043b\\u0443\\u0431 \\u043c\\u043e\\u0440\\u0436\\u0435\\u0439 \\&quot;\\u041e\\u0437\\u0435\\u0440\\u043a\\u0438\\&quot;&quot;, &quot;Type&quot;: &quot;\\u0411\\u0430\\u0441\\u0441\\u0435\\u0439\\u043d&quot;}, &quot;type&quot;: &quot;Feature&quot;}, {&quot;bbox&quot;: [30.376603, 60.013047, 30.376603, 60.013047], &quot;geometry&quot;: {&quot;coordinates&quot;: [30.376603, 60.013047], &quot;type&quot;: &quot;Point&quot;}, &quot;id&quot;: &quot;57&quot;, &quot;properties&quot;: {&quot;City function&quot;: &quot;\\u0421\\u043f\\u043e\\u0440\\u0442&quot;, &quot;Coordinates x&quot;: 30.376603, &quot;Coordinates xy&quot;: &quot;30.37658305770282,60.01303731943124&quot;, &quot;Coordinates y&quot;: 60.013047, &quot;Name&quot;: &quot;\\u0412\\u0423\\u0417&quot;, &quot;Type&quot;: &quot;\\u0411\\u0430\\u0441\\u0441\\u0435\\u0439\\u043d&quot;}, &quot;type&quot;: &quot;Feature&quot;}, {&quot;bbox&quot;: [30.327429, 60.050412, 30.327429, 60.050412], &quot;geometry&quot;: {&quot;coordinates&quot;: [30.327429, 60.050412], &quot;type&quot;: &quot;Point&quot;}, &quot;id&quot;: &quot;58&quot;, &quot;properties&quot;: {&quot;City function&quot;: &quot;\\u0421\\u043f\\u043e\\u0440\\u0442&quot;, &quot;Coordinates x&quot;: 30.327429, &quot;Coordinates xy&quot;: &quot;30.3278226,60.0504377&quot;, &quot;Coordinates y&quot;: 60.050412, &quot;Name&quot;: &quot;\\u0421\\u041a \\u0413\\u0430\\u0437\\u043f\\u0440\\u043e\\u043c&quot;, &quot;Type&quot;: &quot;\\u0411\\u0430\\u0441\\u0441\\u0435\\u0439\\u043d&quot;}, &quot;type&quot;: &quot;Feature&quot;}, {&quot;bbox&quot;: [30.316191, 59.840759, 30.316191, 59.840759], &quot;geometry&quot;: {&quot;coordinates&quot;: [30.316191, 59.840759], &quot;type&quot;: &quot;Point&quot;}, &quot;id&quot;: &quot;59&quot;, &quot;properties&quot;: {&quot;City function&quot;: &quot;\\u0421\\u043f\\u043e\\u0440\\u0442&quot;, &quot;Coordinates x&quot;: 30.316191, &quot;Coordinates xy&quot;: &quot;30.31611071984267,59.84086892338123&quot;, &quot;Coordinates y&quot;: 59.840759, &quot;Name&quot;: &quot;\\u041e\\u043a\\u0435\\u0430\\u043d\\u0438\\u0443\\u043c&quot;, &quot;Type&quot;: &quot;\\u0411\\u0430\\u0441\\u0441\\u0435\\u0439\\u043d&quot;}, &quot;type&quot;: &quot;Feature&quot;}, {&quot;bbox&quot;: [30.292341, 59.925029, 30.292341, 59.925029], &quot;geometry&quot;: {&quot;coordinates&quot;: [30.292341, 59.925029], &quot;type&quot;: &quot;Point&quot;}, &quot;id&quot;: &quot;60&quot;, &quot;properties&quot;: {&quot;City function&quot;: &quot;\\u0421\\u043f\\u043e\\u0440\\u0442&quot;, &quot;Coordinates x&quot;: 30.292341, &quot;Coordinates xy&quot;: &quot;30.29240335982464,59.92492661960916&quot;, &quot;Coordinates y&quot;: 59.925029, &quot;Name&quot;: &quot;\\u041a\\u0430\\u0444\\u0435\\u0434\\u0440\\u0430 \\u043f\\u043b\\u0430\\u0432\\u0430\\u043d\\u0438\\u044f&quot;, &quot;Type&quot;: &quot;\\u0411\\u0430\\u0441\\u0441\\u0435\\u0439\\u043d&quot;}, &quot;type&quot;: &quot;Feature&quot;}, {&quot;bbox&quot;: [30.292745, 59.924546, 30.292745, 59.924546], &quot;geometry&quot;: {&quot;coordinates&quot;: [30.292745, 59.924546], &quot;type&quot;: &quot;Point&quot;}, &quot;id&quot;: &quot;61&quot;, &quot;properties&quot;: {&quot;City function&quot;: &quot;\\u0421\\u043f\\u043e\\u0440\\u0442&quot;, &quot;Coordinates x&quot;: 30.292745, &quot;Coordinates xy&quot;: &quot;30.29270564124895,59.92458485385826&quot;, &quot;Coordinates y&quot;: 59.924546, &quot;Name&quot;: &quot;\\u0414\\u042e\\u0421\\u0428 \\u00ab\\u0414\\u0435\\u043b\\u044c\\u0444\\u0438\\u043d\\u00bb&quot;, &quot;Type&quot;: &quot;\\u0411\\u0430\\u0441\\u0441\\u0435\\u0439\\u043d&quot;}, &quot;type&quot;: &quot;Feature&quot;}, {&quot;bbox&quot;: [30.453382, 59.920587, 30.453382, 59.920587], &quot;geometry&quot;: {&quot;coordinates&quot;: [30.453382, 59.920587], &quot;type&quot;: &quot;Point&quot;}, &quot;id&quot;: &quot;62&quot;, &quot;properties&quot;: {&quot;City function&quot;: &quot;\\u0421\\u043f\\u043e\\u0440\\u0442&quot;, &quot;Coordinates x&quot;: 30.453382, &quot;Coordinates xy&quot;: &quot;30.45278797773882,59.9203956993553&quot;, &quot;Coordinates y&quot;: 59.920587, &quot;Name&quot;: &quot;\\u041d\\u0435\\u0432\\u0441\\u043a\\u0430\\u044f \\u0432\\u043e\\u043b\\u043d\\u0430&quot;, &quot;Type&quot;: &quot;\\u0411\\u0430\\u0441\\u0441\\u0435\\u0439\\u043d&quot;}, &quot;type&quot;: &quot;Feature&quot;}, {&quot;bbox&quot;: [30.317099, 60.047232, 30.317099, 60.047232], &quot;geometry&quot;: {&quot;coordinates&quot;: [30.317099, 60.047232], &quot;type&quot;: &quot;Point&quot;}, &quot;id&quot;: &quot;63&quot;, &quot;properties&quot;: {&quot;City function&quot;: &quot;\\u0421\\u043f\\u043e\\u0440\\u0442&quot;, &quot;Coordinates x&quot;: 30.317099, &quot;Coordinates xy&quot;: &quot;30.31703576883752,60.04719552561964&quot;, &quot;Coordinates y&quot;: 60.047232, &quot;Name&quot;: &quot;\\u041e\\u043a\\u0435\\u0430\\u043d\\u0438\\u0443\\u043c&quot;, &quot;Type&quot;: &quot;\\u0411\\u0430\\u0441\\u0441\\u0435\\u0439\\u043d&quot;}, &quot;type&quot;: &quot;Feature&quot;}, {&quot;bbox&quot;: [30.344237, 59.918738, 30.344237, 59.918738], &quot;geometry&quot;: {&quot;coordinates&quot;: [30.344237, 59.918738], &quot;type&quot;: &quot;Point&quot;}, &quot;id&quot;: &quot;64&quot;, &quot;properties&quot;: {&quot;City function&quot;: &quot;\\u0421\\u043f\\u043e\\u0440\\u0442&quot;, &quot;Coordinates x&quot;: 30.344237, &quot;Coordinates xy&quot;: &quot;30.34425542687669,59.91873774752154&quot;, &quot;Coordinates y&quot;: 59.918738, &quot;Name&quot;: &quot;\\u0424\\u0438\\u0437\\u043a\\u0443\\u043b\\u044c\\u0442\\u0443\\u0440\\u043d\\u043e \\u043e\\u0437\\u0434\\u043e\\u0440\\u043e\\u0432\\u0438\\u0442\\u0435\\u043b\\u044c\\u043d\\u044b\\u0439 \\u0446\\u0435\\u043d\\u0442\\u0440 \\u041b\\u043e\\u043a\\u043e\\u043c\\u043e\\u0442\\u0438\\u0432&quot;, &quot;Type&quot;: &quot;\\u0411\\u0430\\u0441\\u0441\\u0435\\u0439\\u043d&quot;}, &quot;type&quot;: &quot;Feature&quot;}, {&quot;bbox&quot;: [30.329585, 59.966318, 30.329585, 59.966318], &quot;geometry&quot;: {&quot;coordinates&quot;: [30.329585, 59.966318], &quot;type&quot;: &quot;Point&quot;}, &quot;id&quot;: &quot;65&quot;, &quot;properties&quot;: {&quot;City function&quot;: &quot;\\u0421\\u043f\\u043e\\u0440\\u0442&quot;, &quot;Coordinates x&quot;: 30.329585, &quot;Coordinates xy&quot;: &quot;30.3291071,59.9661948&quot;, &quot;Coordinates y&quot;: 59.966318, &quot;Name&quot;: &quot;\\u0411\\u0430\\u0441\\u0441\\u0435\\u0439\\u043d&quot;, &quot;Type&quot;: &quot;\\u0411\\u0430\\u0441\\u0441\\u0435\\u0439\\u043d&quot;}, &quot;type&quot;: &quot;Feature&quot;}, {&quot;bbox&quot;: [30.325723, 59.964462, 30.325723, 59.964462], &quot;geometry&quot;: {&quot;coordinates&quot;: [30.325723, 59.964462], &quot;type&quot;: &quot;Point&quot;}, &quot;id&quot;: &quot;66&quot;, &quot;properties&quot;: {&quot;City function&quot;: &quot;\\u0421\\u043f\\u043e\\u0440\\u0442&quot;, &quot;Coordinates x&quot;: 30.325723, &quot;Coordinates xy&quot;: &quot;30.32568435214303,59.96452033020466&quot;, &quot;Coordinates y&quot;: 59.964462, &quot;Name&quot;: &quot;\\u041f\\u0435\\u0442\\u0440\\u043e\\u0433\\u0440\\u0430\\u0434\\u0435\\u0446&quot;, &quot;Type&quot;: &quot;\\u0411\\u0430\\u0441\\u0441\\u0435\\u0439\\u043d&quot;}, &quot;type&quot;: &quot;Feature&quot;}, {&quot;bbox&quot;: [30.277666, 59.890932, 30.277666, 59.890932], &quot;geometry&quot;: {&quot;coordinates&quot;: [30.277666, 59.890932], &quot;type&quot;: &quot;Point&quot;}, &quot;id&quot;: &quot;67&quot;, &quot;properties&quot;: {&quot;City function&quot;: &quot;\\u0421\\u043f\\u043e\\u0440\\u0442&quot;, &quot;Coordinates x&quot;: 30.277666, &quot;Coordinates xy&quot;: &quot;30.277666, 59.890932&quot;, &quot;Coordinates y&quot;: 59.890932, &quot;Name&quot;: &quot;\\u0422\\u0430\\u0435\\u043a\\u0432\\u043e\\u043d\\u0434\\u043e2000&quot;, &quot;Type&quot;: &quot;\\u0411\\u0430\\u0441\\u0441\\u0435\\u0439\\u043d&quot;}, &quot;type&quot;: &quot;Feature&quot;}, {&quot;bbox&quot;: [30.378768, 60.000866, 30.378768, 60.000866], &quot;geometry&quot;: {&quot;coordinates&quot;: [30.378768, 60.000866], &quot;type&quot;: &quot;Point&quot;}, &quot;id&quot;: &quot;68&quot;, &quot;properties&quot;: {&quot;City function&quot;: &quot;\\u0421\\u043f\\u043e\\u0440\\u0442&quot;, &quot;Coordinates x&quot;: 30.378768, &quot;Coordinates xy&quot;: &quot;30.37877606047653,60.00084151090662&quot;, &quot;Coordinates y&quot;: 60.000866, &quot;Name&quot;: &quot;\\u0426\\u0435\\u043d\\u0442\\u0440 \\u043f\\u043b\\u0430\\u0432\\u0430\\u043d\\u0438\\u044f&quot;, &quot;Type&quot;: &quot;\\u0411\\u0430\\u0441\\u0441\\u0435\\u0439\\u043d&quot;}, &quot;type&quot;: &quot;Feature&quot;}, {&quot;bbox&quot;: [30.373243, 60.003084, 30.373243, 60.003084], &quot;geometry&quot;: {&quot;coordinates&quot;: [30.373243, 60.003084], &quot;type&quot;: &quot;Point&quot;}, &quot;id&quot;: &quot;69&quot;, &quot;properties&quot;: {&quot;City function&quot;: &quot;\\u0421\\u043f\\u043e\\u0440\\u0442&quot;, &quot;Coordinates x&quot;: 30.373243, &quot;Coordinates xy&quot;: &quot;30.3747982,60.0029218&quot;, &quot;Coordinates y&quot;: 60.003084, &quot;Name&quot;: &quot;\\u0421\\u0442\\u0430\\u0440\\u0442&quot;, &quot;Type&quot;: &quot;\\u0411\\u0430\\u0441\\u0441\\u0435\\u0439\\u043d&quot;}, &quot;type&quot;: &quot;Feature&quot;}, {&quot;bbox&quot;: [30.40101, 59.911854, 30.40101, 59.911854], &quot;geometry&quot;: {&quot;coordinates&quot;: [30.40101, 59.911854], &quot;type&quot;: &quot;Point&quot;}, &quot;id&quot;: &quot;70&quot;, &quot;properties&quot;: {&quot;City function&quot;: &quot;\\u0421\\u043f\\u043e\\u0440\\u0442&quot;, &quot;Coordinates x&quot;: 30.40101, &quot;Coordinates xy&quot;: &quot;30.40097193397638,59.91185459780964&quot;, &quot;Coordinates y&quot;: 59.911854, &quot;Name&quot;: &quot;\\u0412\\u043e\\u043b\\u043d\\u0430&quot;, &quot;Type&quot;: &quot;\\u0411\\u0430\\u0441\\u0441\\u0435\\u0439\\u043d&quot;}, &quot;type&quot;: &quot;Feature&quot;}], &quot;type&quot;: &quot;FeatureCollection&quot;});\n",
              "\n",
              "        \n",
              "    \n",
              "    geo_json_b9f19d9b50ee3d745dbbf7d3842a072d.bindTooltip(\n",
              "    function(layer){\n",
              "    let div = L.DomUtil.create(&#x27;div&#x27;);\n",
              "    \n",
              "    let handleObject = feature=&gt;typeof(feature)==&#x27;object&#x27; ? JSON.stringify(feature) : feature;\n",
              "    let fields = [&quot;Name&quot;, &quot;City function&quot;, &quot;Type&quot;, &quot;Coordinates y&quot;, &quot;Coordinates x&quot;, &quot;Coordinates xy&quot;];\n",
              "    let aliases = [&quot;Name&quot;, &quot;City function&quot;, &quot;Type&quot;, &quot;Coordinates y&quot;, &quot;Coordinates x&quot;, &quot;Coordinates xy&quot;];\n",
              "    let table = &#x27;&lt;table&gt;&#x27; +\n",
              "        String(\n",
              "        fields.map(\n",
              "        (v,i)=&gt;\n",
              "        `&lt;tr&gt;\n",
              "            &lt;th&gt;${aliases[i]}&lt;/th&gt;\n",
              "            \n",
              "            &lt;td&gt;${handleObject(layer.feature.properties[v])}&lt;/td&gt;\n",
              "        &lt;/tr&gt;`).join(&#x27;&#x27;))\n",
              "    +&#x27;&lt;/table&gt;&#x27;;\n",
              "    div.innerHTML=table;\n",
              "    \n",
              "    return div\n",
              "    }\n",
              "    ,{&quot;className&quot;: &quot;foliumtooltip&quot;, &quot;sticky&quot;: true});\n",
              "                     \n",
              "&lt;/script&gt;\" style=\"position:absolute;width:100%;height:100%;left:0;top:0;border:none !important;\" allowfullscreen webkitallowfullscreen mozallowfullscreen></iframe></div></div>"
            ]
          },
          "metadata": {},
          "execution_count": 38
        }
      ]
    },
    {
      "cell_type": "markdown",
      "source": [
        "### Часть 2"
      ],
      "metadata": {
        "id": "M3smuz781jPK"
      }
    },
    {
      "cell_type": "markdown",
      "source": [
        "Опираясь на результат метода info составить\n",
        "geojson-pydantic схему для валидации входных данных:"
      ],
      "metadata": {
        "id": "W1UZiCzpP3fA"
      }
    },
    {
      "cell_type": "code",
      "source": [
        "# Составим схему для валидации данных\n",
        "class MyProperties(BaseModel):\n",
        "    Name : str\n",
        "    CityFunction: str = Field(..., alias=\"City function\")\n",
        "    Type : str\n",
        "    Coordinates_y: float = Field(..., alias=\"Coordinates y\")\n",
        "    Coordinates_x: float = Field(..., alias=\"Coordinates x\")\n",
        "    Coordinates_xy: str = Field(..., alias=\"Coordinates xy\")"
      ],
      "metadata": {
        "id": "yZ1tJ1Eu1oNV"
      },
      "execution_count": 17,
      "outputs": []
    },
    {
      "cell_type": "markdown",
      "source": [
        "### Часть 3"
      ],
      "metadata": {
        "id": "cjGDP2tOkJAI"
      }
    },
    {
      "cell_type": "markdown",
      "source": [
        "С помощью модуля requests загрузить тот же самый json файл\n",
        "и проверить его с помощью составленной geojson pydantic схемы."
      ],
      "metadata": {
        "id": "DU_Fw2rEkz2U"
      }
    },
    {
      "cell_type": "code",
      "source": [
        "# Загружаем данные в формате GeoJSON\n",
        "resp = requests.get(download_url)\n",
        "data_json = resp.json()"
      ],
      "metadata": {
        "id": "8RukR_Ss0Q8e"
      },
      "execution_count": 31,
      "outputs": []
    },
    {
      "cell_type": "code",
      "source": [
        "# Проанализируем полученный GeoJSON\n",
        "print(data_json.keys())\n",
        "print(data_json['type'])\n",
        "print(data_json['name'])\n",
        "print(data_json['crs'])\n",
        "print(data_json['features'][0])"
      ],
      "metadata": {
        "colab": {
          "base_uri": "https://localhost:8080/"
        },
        "id": "z0WYUpkikNmB",
        "outputId": "458dd0d7-6ebc-44ed-a70f-b003c6028a81"
      },
      "execution_count": 34,
      "outputs": [
        {
          "output_type": "stream",
          "name": "stdout",
          "text": [
            "dict_keys(['type', 'name', 'crs', 'features'])\n",
            "FeatureCollection\n",
            "swimming_pools\n",
            "{'type': 'name', 'properties': {'name': 'urn:ogc:def:crs:EPSG::4326'}}\n",
            "{'type': 'Feature', 'geometry': {'type': 'Point', 'coordinates': [30.252034, 59.936746]}, 'properties': {'Name': 'Бассейн СКА', 'City function': 'Спорт', 'Type': 'Бассейн', 'Coordinates y': 59.936746, 'Coordinates x': 30.252034, 'Coordinates xy': '30.25187133629281,59.93674916320182'}}\n"
          ]
        }
      ]
    },
    {
      "cell_type": "code",
      "source": [
        "MyFeatureCollection = FeatureCollection[Point, MyProperties]  # Формируем свое видение geojson\n",
        "feature_collection = MyFeatureCollection(**data_json) # Валидируем данные"
      ],
      "metadata": {
        "id": "slOrVWt7jrIi"
      },
      "execution_count": 32,
      "outputs": []
    },
    {
      "cell_type": "code",
      "source": [
        "# Посмотрим на полученные данные после валидации\n",
        "print(feature_collection.dict().keys())  # Получить словарь из pydantic объекта\n",
        "print(feature_collection.dict()['features'][0])"
      ],
      "metadata": {
        "colab": {
          "base_uri": "https://localhost:8080/"
        },
        "id": "PFgISW2Jjt16",
        "outputId": "2505c9f6-486a-422e-f883-f9b390a63bb1"
      },
      "execution_count": 37,
      "outputs": [
        {
          "output_type": "stream",
          "name": "stdout",
          "text": [
            "dict_keys(['type', 'features', 'bbox'])\n",
            "{'type': 'Feature', 'geometry': {'coordinates': (30.252034, 59.936746), 'type': 'Point'}, 'properties': {'Name': 'Бассейн СКА', 'CityFunction': 'Спорт', 'Type': 'Бассейн', 'Coordinates_y': 59.936746, 'Coordinates_x': 30.252034, 'Coordinates_xy': '30.25187133629281,59.93674916320182'}, 'id': None, 'bbox': None}\n"
          ]
        }
      ]
    }
  ]
}